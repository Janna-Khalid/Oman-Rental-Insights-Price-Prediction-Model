{
 "cells": [
  {
   "cell_type": "markdown",
   "id": "48457615-67b6-49fa-bb71-18cc1b5b0006",
   "metadata": {},
   "source": [
    "# Data Cleansing"
   ]
  },
  {
   "cell_type": "code",
   "execution_count": 1,
   "id": "e5238bc3-f588-40d3-a4fb-86bc2459e7f6",
   "metadata": {},
   "outputs": [],
   "source": [
    "import numpy as np\n",
    "import pandas as pd"
   ]
  },
  {
   "cell_type": "code",
   "execution_count": 2,
   "id": "212a6e02-85f8-46c2-bf41-b2dd0db144b6",
   "metadata": {},
   "outputs": [
    {
     "data": {
      "text/html": [
       "<div>\n",
       "<style scoped>\n",
       "    .dataframe tbody tr th:only-of-type {\n",
       "        vertical-align: middle;\n",
       "    }\n",
       "\n",
       "    .dataframe tbody tr th {\n",
       "        vertical-align: top;\n",
       "    }\n",
       "\n",
       "    .dataframe thead th {\n",
       "        text-align: right;\n",
       "    }\n",
       "</style>\n",
       "<table border=\"1\" class=\"dataframe\">\n",
       "  <thead>\n",
       "    <tr style=\"text-align: right;\">\n",
       "      <th></th>\n",
       "      <th>Property Title</th>\n",
       "      <th>Location</th>\n",
       "      <th>Bedrooms</th>\n",
       "      <th>Price</th>\n",
       "      <th>Size</th>\n",
       "      <th>Listing Type</th>\n",
       "    </tr>\n",
       "  </thead>\n",
       "  <tbody>\n",
       "    <tr>\n",
       "      <th>0</th>\n",
       "      <td>115 m2 2 Bedrooms Apartments for Rent in Dhofa...</td>\n",
       "      <td>Dhofar, Salala</td>\n",
       "      <td>2.0</td>\n",
       "      <td>45 OMR</td>\n",
       "      <td>115.0</td>\n",
       "      <td>For Rent</td>\n",
       "    </tr>\n",
       "    <tr>\n",
       "      <th>1</th>\n",
       "      <td>Furnished Daily in Dhofar Salala</td>\n",
       "      <td>Dhofar, Salala</td>\n",
       "      <td>NaN</td>\n",
       "      <td>15 OMR</td>\n",
       "      <td>NaN</td>\n",
       "      <td>For Rent</td>\n",
       "    </tr>\n",
       "    <tr>\n",
       "      <th>2</th>\n",
       "      <td>900 m2 2 Bedrooms Apartments for Rent in Dhofa...</td>\n",
       "      <td>Dhofar, Salala</td>\n",
       "      <td>2.0</td>\n",
       "      <td>25 OMR</td>\n",
       "      <td>900.0</td>\n",
       "      <td>For Rent</td>\n",
       "    </tr>\n",
       "    <tr>\n",
       "      <th>3</th>\n",
       "      <td>More than 6 bedrooms Chalet for Rent in Al Bat...</td>\n",
       "      <td>Al Batinah, Suwaiq</td>\n",
       "      <td>NaN</td>\n",
       "      <td>70 OMR</td>\n",
       "      <td>5000.0</td>\n",
       "      <td>For Rent</td>\n",
       "    </tr>\n",
       "    <tr>\n",
       "      <th>4</th>\n",
       "      <td>60 m2 1 Bedroom Apartments for Rent in Dhofar ...</td>\n",
       "      <td>Dhofar, Salala</td>\n",
       "      <td>1.0</td>\n",
       "      <td>45 OMR</td>\n",
       "      <td>60.0</td>\n",
       "      <td>For Rent</td>\n",
       "    </tr>\n",
       "  </tbody>\n",
       "</table>\n",
       "</div>"
      ],
      "text/plain": [
       "                                      Property Title            Location  \\\n",
       "0  115 m2 2 Bedrooms Apartments for Rent in Dhofa...      Dhofar, Salala   \n",
       "1                   Furnished Daily in Dhofar Salala      Dhofar, Salala   \n",
       "2  900 m2 2 Bedrooms Apartments for Rent in Dhofa...      Dhofar, Salala   \n",
       "3  More than 6 bedrooms Chalet for Rent in Al Bat...  Al Batinah, Suwaiq   \n",
       "4  60 m2 1 Bedroom Apartments for Rent in Dhofar ...      Dhofar, Salala   \n",
       "\n",
       "   Bedrooms   Price    Size Listing Type  \n",
       "0       2.0  45 OMR   115.0     For Rent  \n",
       "1       NaN  15 OMR     NaN     For Rent  \n",
       "2       2.0  25 OMR   900.0     For Rent  \n",
       "3       NaN  70 OMR  5000.0     For Rent  \n",
       "4       1.0  45 OMR    60.0     For Rent  "
      ]
     },
     "execution_count": 2,
     "metadata": {},
     "output_type": "execute_result"
    }
   ],
   "source": [
    "df1 = pd.read_csv(r\"Open_Sooq.csv\")\n",
    "df1.head()"
   ]
  },
  {
   "cell_type": "code",
   "execution_count": 3,
   "id": "1c3b60d1-3a94-4c6a-b799-bb7257cb0859",
   "metadata": {},
   "outputs": [
    {
     "data": {
      "text/html": [
       "<div>\n",
       "<style scoped>\n",
       "    .dataframe tbody tr th:only-of-type {\n",
       "        vertical-align: middle;\n",
       "    }\n",
       "\n",
       "    .dataframe tbody tr th {\n",
       "        vertical-align: top;\n",
       "    }\n",
       "\n",
       "    .dataframe thead th {\n",
       "        text-align: right;\n",
       "    }\n",
       "</style>\n",
       "<table border=\"1\" class=\"dataframe\">\n",
       "  <thead>\n",
       "    <tr style=\"text-align: right;\">\n",
       "      <th></th>\n",
       "      <th>Property Title</th>\n",
       "      <th>Location</th>\n",
       "      <th>Bedrooms</th>\n",
       "      <th>Price</th>\n",
       "      <th>Size</th>\n",
       "      <th>Listing Type</th>\n",
       "    </tr>\n",
       "  </thead>\n",
       "  <tbody>\n",
       "    <tr>\n",
       "      <th>0</th>\n",
       "      <td>4-BEDROOM VILLA</td>\n",
       "      <td>Azaiba</td>\n",
       "      <td>4</td>\n",
       "      <td>500</td>\n",
       "      <td>NaN</td>\n",
       "      <td>For Rent</td>\n",
       "    </tr>\n",
       "    <tr>\n",
       "      <th>1</th>\n",
       "      <td>STUDIO FLAT</td>\n",
       "      <td>Bausher</td>\n",
       "      <td>1</td>\n",
       "      <td>270</td>\n",
       "      <td>NaN</td>\n",
       "      <td>For Rent</td>\n",
       "    </tr>\n",
       "    <tr>\n",
       "      <th>2</th>\n",
       "      <td>COMMERCIAL SHOP</td>\n",
       "      <td>Al Mawaleh</td>\n",
       "      <td>NaN</td>\n",
       "      <td>350</td>\n",
       "      <td>65</td>\n",
       "      <td>For Rent</td>\n",
       "    </tr>\n",
       "    <tr>\n",
       "      <th>3</th>\n",
       "      <td>2-BEDROOM APARTMENT</td>\n",
       "      <td>Al Ansab</td>\n",
       "      <td>2</td>\n",
       "      <td>300</td>\n",
       "      <td>NaN</td>\n",
       "      <td>For Rent</td>\n",
       "    </tr>\n",
       "    <tr>\n",
       "      <th>4</th>\n",
       "      <td>2-BEDROOM APARTMENT</td>\n",
       "      <td>Shatti Al Qurum</td>\n",
       "      <td>2</td>\n",
       "      <td>500</td>\n",
       "      <td>NaN</td>\n",
       "      <td>For Rent</td>\n",
       "    </tr>\n",
       "  </tbody>\n",
       "</table>\n",
       "</div>"
      ],
      "text/plain": [
       "        Property Title         Location Bedrooms  Price Size Listing Type\n",
       "0      4-BEDROOM VILLA           Azaiba        4    500  NaN     For Rent\n",
       "1          STUDIO FLAT          Bausher        1    270  NaN     For Rent\n",
       "2      COMMERCIAL SHOP       Al Mawaleh      NaN    350   65     For Rent\n",
       "3  2-BEDROOM APARTMENT         Al Ansab        2    300  NaN     For Rent\n",
       "4  2-BEDROOM APARTMENT  Shatti Al Qurum        2    500  NaN     For Rent"
      ]
     },
     "execution_count": 3,
     "metadata": {},
     "output_type": "execute_result"
    }
   ],
   "source": [
    "df2 = pd.read_csv(r\"Hilal.csv\")\n",
    "df2.head()"
   ]
  },
  {
   "cell_type": "code",
   "execution_count": 4,
   "id": "2d46d18e-a76f-42bb-93e3-4b6c4e44f915",
   "metadata": {},
   "outputs": [
    {
     "data": {
      "text/html": [
       "<div>\n",
       "<style scoped>\n",
       "    .dataframe tbody tr th:only-of-type {\n",
       "        vertical-align: middle;\n",
       "    }\n",
       "\n",
       "    .dataframe tbody tr th {\n",
       "        vertical-align: top;\n",
       "    }\n",
       "\n",
       "    .dataframe thead th {\n",
       "        text-align: right;\n",
       "    }\n",
       "</style>\n",
       "<table border=\"1\" class=\"dataframe\">\n",
       "  <thead>\n",
       "    <tr style=\"text-align: right;\">\n",
       "      <th></th>\n",
       "      <th>Property Title</th>\n",
       "      <th>Location</th>\n",
       "      <th>Bedrooms</th>\n",
       "      <th>Price</th>\n",
       "      <th>Size</th>\n",
       "      <th>Listing Type</th>\n",
       "    </tr>\n",
       "  </thead>\n",
       "  <tbody>\n",
       "    <tr>\n",
       "      <th>0</th>\n",
       "      <td>115 m2 2 Bedrooms Apartments for Rent in Dhofa...</td>\n",
       "      <td>Dhofar, Salala</td>\n",
       "      <td>2.0</td>\n",
       "      <td>45 OMR</td>\n",
       "      <td>115.0</td>\n",
       "      <td>For Rent</td>\n",
       "    </tr>\n",
       "    <tr>\n",
       "      <th>1</th>\n",
       "      <td>Furnished Daily in Dhofar Salala</td>\n",
       "      <td>Dhofar, Salala</td>\n",
       "      <td>NaN</td>\n",
       "      <td>15 OMR</td>\n",
       "      <td>NaN</td>\n",
       "      <td>For Rent</td>\n",
       "    </tr>\n",
       "    <tr>\n",
       "      <th>2</th>\n",
       "      <td>900 m2 2 Bedrooms Apartments for Rent in Dhofa...</td>\n",
       "      <td>Dhofar, Salala</td>\n",
       "      <td>2.0</td>\n",
       "      <td>25 OMR</td>\n",
       "      <td>900.0</td>\n",
       "      <td>For Rent</td>\n",
       "    </tr>\n",
       "    <tr>\n",
       "      <th>3</th>\n",
       "      <td>More than 6 bedrooms Chalet for Rent in Al Bat...</td>\n",
       "      <td>Al Batinah, Suwaiq</td>\n",
       "      <td>NaN</td>\n",
       "      <td>70 OMR</td>\n",
       "      <td>5000.0</td>\n",
       "      <td>For Rent</td>\n",
       "    </tr>\n",
       "    <tr>\n",
       "      <th>4</th>\n",
       "      <td>60 m2 1 Bedroom Apartments for Rent in Dhofar ...</td>\n",
       "      <td>Dhofar, Salala</td>\n",
       "      <td>1.0</td>\n",
       "      <td>45 OMR</td>\n",
       "      <td>60.0</td>\n",
       "      <td>For Rent</td>\n",
       "    </tr>\n",
       "  </tbody>\n",
       "</table>\n",
       "</div>"
      ],
      "text/plain": [
       "                                      Property Title            Location  \\\n",
       "0  115 m2 2 Bedrooms Apartments for Rent in Dhofa...      Dhofar, Salala   \n",
       "1                   Furnished Daily in Dhofar Salala      Dhofar, Salala   \n",
       "2  900 m2 2 Bedrooms Apartments for Rent in Dhofa...      Dhofar, Salala   \n",
       "3  More than 6 bedrooms Chalet for Rent in Al Bat...  Al Batinah, Suwaiq   \n",
       "4  60 m2 1 Bedroom Apartments for Rent in Dhofar ...      Dhofar, Salala   \n",
       "\n",
       "  Bedrooms   Price    Size Listing Type  \n",
       "0      2.0  45 OMR   115.0     For Rent  \n",
       "1      NaN  15 OMR     NaN     For Rent  \n",
       "2      2.0  25 OMR   900.0     For Rent  \n",
       "3      NaN  70 OMR  5000.0     For Rent  \n",
       "4      1.0  45 OMR    60.0     For Rent  "
      ]
     },
     "execution_count": 4,
     "metadata": {},
     "output_type": "execute_result"
    }
   ],
   "source": [
    "merged_df = pd.concat([df1, df2], ignore_index = True)\n",
    "merged_df.head()"
   ]
  },
  {
   "cell_type": "code",
   "execution_count": 5,
   "id": "c6935cd4-ebb2-4681-990c-193ecd200e59",
   "metadata": {},
   "outputs": [],
   "source": [
    "merged_df.to_csv(\"RealEstate_Dataset [Before Cleaning].csv\", index = False)"
   ]
  },
  {
   "cell_type": "code",
   "execution_count": 6,
   "id": "cad0709e-111a-4dd7-8a15-16a73077e0ae",
   "metadata": {},
   "outputs": [
    {
     "data": {
      "text/plain": [
       "(5566, 6)"
      ]
     },
     "execution_count": 6,
     "metadata": {},
     "output_type": "execute_result"
    }
   ],
   "source": [
    "merged_df.shape"
   ]
  },
  {
   "cell_type": "code",
   "execution_count": 7,
   "id": "e921609f-ab4d-4237-b44f-dc6a3a5d2f04",
   "metadata": {},
   "outputs": [
    {
     "name": "stdout",
     "output_type": "stream",
     "text": [
      "<class 'pandas.core.frame.DataFrame'>\n",
      "RangeIndex: 5566 entries, 0 to 5565\n",
      "Data columns (total 6 columns):\n",
      " #   Column          Non-Null Count  Dtype \n",
      "---  ------          --------------  ----- \n",
      " 0   Property Title  5566 non-null   object\n",
      " 1   Location        5560 non-null   object\n",
      " 2   Bedrooms        3216 non-null   object\n",
      " 3   Price           5447 non-null   object\n",
      " 4   Size            4265 non-null   object\n",
      " 5   Listing Type    5566 non-null   object\n",
      "dtypes: object(6)\n",
      "memory usage: 261.0+ KB\n"
     ]
    }
   ],
   "source": [
    "merged_df.info()"
   ]
  },
  {
   "cell_type": "code",
   "execution_count": 8,
   "id": "47563779-9f0f-4856-b5d1-f230924089c1",
   "metadata": {},
   "outputs": [
    {
     "data": {
      "text/plain": [
       "Property Title       0\n",
       "Location             6\n",
       "Bedrooms          2350\n",
       "Price              119\n",
       "Size              1301\n",
       "Listing Type         0\n",
       "dtype: int64"
      ]
     },
     "execution_count": 8,
     "metadata": {},
     "output_type": "execute_result"
    }
   ],
   "source": [
    "merged_df.isnull().sum()"
   ]
  },
  {
   "cell_type": "code",
   "execution_count": 9,
   "id": "09fa0545-fcd4-45f1-91b6-0d8e33f49d2c",
   "metadata": {},
   "outputs": [
    {
     "data": {
      "text/plain": [
       "1385"
      ]
     },
     "execution_count": 9,
     "metadata": {},
     "output_type": "execute_result"
    }
   ],
   "source": [
    "merged_df.duplicated().sum()"
   ]
  },
  {
   "cell_type": "code",
   "execution_count": 10,
   "id": "fa326d6b-1381-4974-a789-e6921ba30bf5",
   "metadata": {},
   "outputs": [],
   "source": [
    "merged_df.drop_duplicates(keep = \"first\", inplace = True)"
   ]
  },
  {
   "cell_type": "code",
   "execution_count": 11,
   "id": "835db2f3-a611-4262-a925-5e634670599d",
   "metadata": {},
   "outputs": [
    {
     "data": {
      "text/plain": [
       "0"
      ]
     },
     "execution_count": 11,
     "metadata": {},
     "output_type": "execute_result"
    }
   ],
   "source": [
    "merged_df.duplicated().sum()"
   ]
  },
  {
   "cell_type": "code",
   "execution_count": 12,
   "id": "8f8e8f3a-a7b6-433e-ba88-de2fa18b0187",
   "metadata": {},
   "outputs": [
    {
     "data": {
      "text/plain": [
       "Property Title       0\n",
       "Location             5\n",
       "Bedrooms          1638\n",
       "Price               81\n",
       "Size               740\n",
       "Listing Type         0\n",
       "dtype: int64"
      ]
     },
     "execution_count": 12,
     "metadata": {},
     "output_type": "execute_result"
    }
   ],
   "source": [
    "merged_df.isnull().sum()"
   ]
  },
  {
   "cell_type": "code",
   "execution_count": 13,
   "id": "da7a165d-507f-4582-b106-4df9ad9411fd",
   "metadata": {},
   "outputs": [],
   "source": [
    "merged_df.dropna(subset=[\"Location\"], inplace=True)"
   ]
  },
  {
   "cell_type": "code",
   "execution_count": 14,
   "id": "c15fcfe9-8c01-404c-83f7-4bcbd7e19fba",
   "metadata": {},
   "outputs": [
    {
     "data": {
      "text/plain": [
       "Property Title       0\n",
       "Location             0\n",
       "Bedrooms          1638\n",
       "Price               81\n",
       "Size               736\n",
       "Listing Type         0\n",
       "dtype: int64"
      ]
     },
     "execution_count": 14,
     "metadata": {},
     "output_type": "execute_result"
    }
   ],
   "source": [
    "merged_df.isnull().sum()"
   ]
  },
  {
   "cell_type": "code",
   "execution_count": null,
   "id": "fd54949f-ddf2-4ba0-b04f-482eac506a4c",
   "metadata": {},
   "outputs": [],
   "source": [
    "merged_df.isnull().sum()"
   ]
  },
  {
   "cell_type": "code",
   "execution_count": 16,
   "id": "96109996-2d3a-4fa2-842c-c2c23ab17d5d",
   "metadata": {},
   "outputs": [
    {
     "data": {
      "text/plain": [
       "array(['45 OMR', '15 OMR', '25 OMR', '70 OMR', '210 OMR', '100 OMR',\n",
       "       '800 OMR', '80 OMR', '220 OMR', '110 OMR', '180 OMR', '30 OMR',\n",
       "       '60 OMR', '1,000 OMR', '50 OMR', '40 OMR', '120 OMR', '10 OMR',\n",
       "       '75 OMR', '35 OMR', '20 OMR', '145 OMR', '300 OMR', '1 OMR',\n",
       "       '150 OMR', '65 OMR', '85 OMR', '1,600 OMR', '2,300 OMR', '29 OMR',\n",
       "       '6 OMR', '400 OMR', '90 OMR', '4 OMR', '24 OMR', '95 OMR',\n",
       "       '105 OMR', '7 OMR', nan, '450 OMR', '9 OMR', '350,000 OMR',\n",
       "       '160 OMR', '99 OMR', '190 OMR', '200 OMR', '550 OMR', '135 OMR',\n",
       "       '27 OMR', '340 OMR', '28 OMR', '1,250 OMR', '240 OMR', '18 OMR',\n",
       "       '17 OMR', '165 OMR', '8 OMR', '600 OMR', '55 OMR', '140 OMR',\n",
       "       '950 OMR', '5 OMR', '385 OMR', '33 OMR', '130 OMR', '650 OMR',\n",
       "       '35,000 OMR', '12 OMR', '14 OMR', '13 OMR', '58 OMR', '250 OMR',\n",
       "       '900 OMR', '16 OMR', '425 OMR', '290 OMR', '3,700 OMR', '350 OMR',\n",
       "       '570 OMR', '3,000 OMR', '125 OMR', '1,200 OMR', '225 OMR',\n",
       "       '13,000 OMR', '390 OMR', '430 OMR', '460 OMR', '89 OMR', '11 OMR',\n",
       "       '42 OMR', '1,700 OMR', '500 OMR', '700 OMR', '410 OMR', '675 OMR',\n",
       "       '230 OMR', '320 OMR', '575 OMR', '109 OMR', '234 OMR', '199 OMR',\n",
       "       '38 OMR', '1,050 OMR', '1,500 OMR', '850 OMR', '1,400 OMR',\n",
       "       '530 OMR', '590 OMR', '280 OMR', '295 OMR', '170 OMR', '270 OMR',\n",
       "       '22 OMR', '19 OMR', '48 OMR', '215 OMR', '2,000 OMR', '2,100 OMR',\n",
       "       '185 OMR', '285 OMR', '23 OMR', '3 OMR', '260 OMR', '279 OMR',\n",
       "       '72,000 OMR', '1,980 OMR', '625 OMR', '175 OMR', '330 OMR',\n",
       "       '4,500 OMR', '1,100 OMR', '4,000 OMR', '800,000 OMR', '310 OMR',\n",
       "       '25,000 OMR', '155 OMR', '370 OMR', '360 OMR', '5,000 OMR',\n",
       "       '825 OMR', '725 OMR', '1,150 OMR', '255 OMR', '32 OMR',\n",
       "       '160,000 OMR', '1,650 OMR', '1,800 OMR', '940 OMR', '380 OMR',\n",
       "       '195 OMR', '750 OMR', '5,600 OMR', '5,500 OMR', '2,500 OMR',\n",
       "       '57,000 OMR', '420 OMR', '1,850 OMR', '325 OMR', '2,900 OMR',\n",
       "       '999 OMR', '121 OMR', '639 OMR', '357 OMR', '293 OMR', '235 OMR',\n",
       "       '115 OMR', '10,000 OMR', '525 OMR', '3,840 OMR', '350,055 OMR',\n",
       "       '347 OMR', '423 OMR', '189 OMR', '369 OMR', '79 OMR', '1,350 OMR',\n",
       "       '98,225,514 OMR', '66 OMR', '600,000 OMR', '3,400 OMR', '485 OMR',\n",
       "       '40,000 OMR', '2,250 OMR', '5,700 OMR', '11,000 OMR', '21 OMR',\n",
       "       '1,750,000 OMR', '1,010 OMR', '180,000 OMR', '200,000 OMR',\n",
       "       '620 OMR', '7,500 OMR', '1,300 OMR', '660 OMR', '440 OMR',\n",
       "       '640 OMR', '272 OMR', '376 OMR', '863 OMR', '139 OMR', '556 OMR',\n",
       "       '370,000 OMR', '170,000 OMR', '3,500 OMR', '20,000 OMR', '630 OMR',\n",
       "       '4,300 OMR', '140,150,160 OMR', '100,000 OMR', '6,000 OMR',\n",
       "       '480 OMR', '1,027 OMR', '275 OMR', '65,000 OMR', '7,000 OMR',\n",
       "       '2 OMR', '15,000 OMR', '265 OMR', '12,000 OMR', '99,999 OMR',\n",
       "       '1,380 OMR', '375 OMR', '2,208 OMR', '2,056 OMR', '44 OMR',\n",
       "       '75,000 OMR', '2,200 OMR', '245 OMR', '159 OMR', '659 OMR',\n",
       "       '196 OMR', '92 OMR', '149 OMR', '253 OMR', '299 OMR', '809 OMR',\n",
       "       '329 OMR', '479 OMR', '912 OMR', '291 OMR', '102 OMR', '281 OMR',\n",
       "       '112 OMR', '716 OMR', '997 OMR', '612 OMR', '4,800 OMR',\n",
       "       '6,500 OMR', '475 OMR', '3,950 OMR', '5,530 OMR', '9,999 OMR',\n",
       "       '395 OMR', '490 OMR', '9,000 OMR', '1,550 OMR', '540 OMR',\n",
       "       '19,000 OMR', '546 OMR', '168 OMR', '414 OMR', '37 OMR',\n",
       "       '1,064 OMR', '670 OMR', '3,717 OMR', '6,405 OMR', '378 OMR',\n",
       "       '2,350 OMR', '60,000 OMR', '70,000 OMR', '1,179 OMR', '119 OMR',\n",
       "       '1,000,000 OMR', '609 OMR', 500, 270, 350, 300, 1500, 370, 4, 650,\n",
       "       6, 750, 7, 2200, 180, 250, 800, 400, 550, 1800, 675, 900, 1100,\n",
       "       2500, 700, 600, 450, 560, 375, 1300, 1000, 850, 950, 330, 280,\n",
       "       1600, 475, 360, 3000, 11000, 1350, 1400, 315, 515, 210, 11900,\n",
       "       1200, 1750, 2300, 220, 230, 2100, 225, 150, 380, 7500, 320, 135,\n",
       "       680, 200, -550, 33000, 1700, 5000, 2000, 2800, 4500, 145000, -950,\n",
       "       -600], dtype=object)"
      ]
     },
     "execution_count": 16,
     "metadata": {},
     "output_type": "execute_result"
    }
   ],
   "source": [
    "merged_df[\"Price\"].unique()"
   ]
  },
  {
   "cell_type": "code",
   "execution_count": 17,
   "id": "8791a807-b514-495b-8472-094ead4ad1dd",
   "metadata": {},
   "outputs": [
    {
     "name": "stderr",
     "output_type": "stream",
     "text": [
      "C:\\Users\\bbuser\\AppData\\Local\\Temp\\ipykernel_23460\\3492401443.py:9: FutureWarning: A value is trying to be set on a copy of a DataFrame or Series through chained assignment using an inplace method.\n",
      "The behavior will change in pandas 3.0. This inplace method will never work because the intermediate object on which we are setting values always behaves as a copy.\n",
      "\n",
      "For example, when doing 'df[col].method(value, inplace=True)', try using 'df.method({col: value}, inplace=True)' or df[col] = df[col].method(value) instead, to perform the operation inplace on the original object.\n",
      "\n",
      "\n",
      "  merged_df[\"Price\"].fillna(merged_df[\"Price\"].mode()[0], inplace=True)\n"
     ]
    }
   ],
   "source": [
    "merged_df[\"Price\"] = merged_df[\"Price\"].astype(str)\n",
    "merged_df[\"Price\"] = merged_df[\"Price\"].replace({\"OMR\": \"\", \",\": \"\", \"-\": \"\"}, regex=True)\n",
    "merged_df[\"Price\"] = merged_df[\"Price\"].str.strip().str.split().str[0]\n",
    "\n",
    "# Step 2: Convert to float\n",
    "merged_df[\"Price\"] = merged_df[\"Price\"].astype(float)\n",
    "\n",
    "# Step 3: Fill NaNs with mode\n",
    "merged_df[\"Price\"].fillna(merged_df[\"Price\"].mode()[0], inplace=True)"
   ]
  },
  {
   "cell_type": "code",
   "execution_count": 18,
   "id": "59b0f2f1-16cf-4df8-a632-e4b24433548b",
   "metadata": {},
   "outputs": [
    {
     "data": {
      "text/plain": [
       "Property Title       0\n",
       "Location             0\n",
       "Bedrooms          1638\n",
       "Price                0\n",
       "Size               736\n",
       "Listing Type         0\n",
       "dtype: int64"
      ]
     },
     "execution_count": 18,
     "metadata": {},
     "output_type": "execute_result"
    }
   ],
   "source": [
    "merged_df.isnull().sum()"
   ]
  },
  {
   "cell_type": "code",
   "execution_count": 20,
   "id": "fc222a94-5cba-494f-a2f5-3427b42b9de3",
   "metadata": {},
   "outputs": [
    {
     "data": {
      "text/html": [
       "<div>\n",
       "<style scoped>\n",
       "    .dataframe tbody tr th:only-of-type {\n",
       "        vertical-align: middle;\n",
       "    }\n",
       "\n",
       "    .dataframe tbody tr th {\n",
       "        vertical-align: top;\n",
       "    }\n",
       "\n",
       "    .dataframe thead th {\n",
       "        text-align: right;\n",
       "    }\n",
       "</style>\n",
       "<table border=\"1\" class=\"dataframe\">\n",
       "  <thead>\n",
       "    <tr style=\"text-align: right;\">\n",
       "      <th></th>\n",
       "      <th>Price</th>\n",
       "    </tr>\n",
       "  </thead>\n",
       "  <tbody>\n",
       "    <tr>\n",
       "      <th>0</th>\n",
       "      <td>45.0</td>\n",
       "    </tr>\n",
       "    <tr>\n",
       "      <th>1</th>\n",
       "      <td>15.0</td>\n",
       "    </tr>\n",
       "    <tr>\n",
       "      <th>2</th>\n",
       "      <td>25.0</td>\n",
       "    </tr>\n",
       "    <tr>\n",
       "      <th>3</th>\n",
       "      <td>70.0</td>\n",
       "    </tr>\n",
       "    <tr>\n",
       "      <th>4</th>\n",
       "      <td>45.0</td>\n",
       "    </tr>\n",
       "    <tr>\n",
       "      <th>...</th>\n",
       "      <td>...</td>\n",
       "    </tr>\n",
       "    <tr>\n",
       "      <th>5561</th>\n",
       "      <td>350.0</td>\n",
       "    </tr>\n",
       "    <tr>\n",
       "      <th>5562</th>\n",
       "      <td>950.0</td>\n",
       "    </tr>\n",
       "    <tr>\n",
       "      <th>5563</th>\n",
       "      <td>950.0</td>\n",
       "    </tr>\n",
       "    <tr>\n",
       "      <th>5564</th>\n",
       "      <td>475.0</td>\n",
       "    </tr>\n",
       "    <tr>\n",
       "      <th>5565</th>\n",
       "      <td>600.0</td>\n",
       "    </tr>\n",
       "  </tbody>\n",
       "</table>\n",
       "<p>4176 rows × 1 columns</p>\n",
       "</div>"
      ],
      "text/plain": [
       "      Price\n",
       "0      45.0\n",
       "1      15.0\n",
       "2      25.0\n",
       "3      70.0\n",
       "4      45.0\n",
       "...     ...\n",
       "5561  350.0\n",
       "5562  950.0\n",
       "5563  950.0\n",
       "5564  475.0\n",
       "5565  600.0\n",
       "\n",
       "[4176 rows x 1 columns]"
      ]
     },
     "execution_count": 20,
     "metadata": {},
     "output_type": "execute_result"
    }
   ],
   "source": [
    "merged_df[[\"Price\"]]"
   ]
  },
  {
   "cell_type": "code",
   "execution_count": 15,
   "id": "ea91e14f-af3d-4203-9bd2-0018992c0ce3",
   "metadata": {},
   "outputs": [
    {
     "data": {
      "text/plain": [
       "array([2.0, nan, 1.0, 4.0, 3.0, 5.0, '4', '1', '2', '2,3,4', '5', '3',\n",
       "       '7', '6', '8'], dtype=object)"
      ]
     },
     "execution_count": 15,
     "metadata": {},
     "output_type": "execute_result"
    }
   ],
   "source": [
    "merged_df[\"Bedrooms\"].unique()"
   ]
  },
  {
   "cell_type": "code",
   "execution_count": 21,
   "id": "7e04760c-e946-4da1-9d10-33c9e8993640",
   "metadata": {},
   "outputs": [],
   "source": [
    "# Step 1: Convert all values to string\n",
    "merged_df['Bedrooms'] = merged_df['Bedrooms'].astype(str)\n",
    "\n",
    "# Step 2: Extract the first number before a comma\n",
    "merged_df['Bedrooms'] = merged_df['Bedrooms'].apply(lambda x: x.split(',')[0])\n",
    "\n",
    "# Step 3: Convert to integer, coercing errors to NaN (in case of invalid data)\n",
    "merged_df['Bedrooms'] = pd.to_numeric(merged_df['Bedrooms'], errors='coerce')\n",
    "\n",
    "# Step 4: Fill null values with the mode (most frequent value)\n",
    "mode_value = merged_df['Bedrooms'].mode()[0]\n",
    "merged_df['Bedrooms'] = merged_df['Bedrooms'].fillna(mode_value).astype(int)"
   ]
  },
  {
   "cell_type": "code",
   "execution_count": 22,
   "id": "d9956e13-fd11-4f95-ba1d-8b0403187ddc",
   "metadata": {},
   "outputs": [
    {
     "data": {
      "text/plain": [
       "Property Title      0\n",
       "Location            0\n",
       "Bedrooms            0\n",
       "Price               0\n",
       "Size              736\n",
       "Listing Type        0\n",
       "dtype: int64"
      ]
     },
     "execution_count": 22,
     "metadata": {},
     "output_type": "execute_result"
    }
   ],
   "source": [
    "merged_df.isnull().sum()"
   ]
  },
  {
   "cell_type": "code",
   "execution_count": 23,
   "id": "5a0e1edd-552b-4815-94da-7a8764100dfc",
   "metadata": {},
   "outputs": [
    {
     "data": {
      "text/html": [
       "<div>\n",
       "<style scoped>\n",
       "    .dataframe tbody tr th:only-of-type {\n",
       "        vertical-align: middle;\n",
       "    }\n",
       "\n",
       "    .dataframe tbody tr th {\n",
       "        vertical-align: top;\n",
       "    }\n",
       "\n",
       "    .dataframe thead th {\n",
       "        text-align: right;\n",
       "    }\n",
       "</style>\n",
       "<table border=\"1\" class=\"dataframe\">\n",
       "  <thead>\n",
       "    <tr style=\"text-align: right;\">\n",
       "      <th></th>\n",
       "      <th>Bedrooms</th>\n",
       "    </tr>\n",
       "  </thead>\n",
       "  <tbody>\n",
       "    <tr>\n",
       "      <th>0</th>\n",
       "      <td>2</td>\n",
       "    </tr>\n",
       "    <tr>\n",
       "      <th>1</th>\n",
       "      <td>2</td>\n",
       "    </tr>\n",
       "    <tr>\n",
       "      <th>2</th>\n",
       "      <td>2</td>\n",
       "    </tr>\n",
       "    <tr>\n",
       "      <th>3</th>\n",
       "      <td>2</td>\n",
       "    </tr>\n",
       "    <tr>\n",
       "      <th>4</th>\n",
       "      <td>1</td>\n",
       "    </tr>\n",
       "    <tr>\n",
       "      <th>...</th>\n",
       "      <td>...</td>\n",
       "    </tr>\n",
       "    <tr>\n",
       "      <th>5561</th>\n",
       "      <td>2</td>\n",
       "    </tr>\n",
       "    <tr>\n",
       "      <th>5562</th>\n",
       "      <td>4</td>\n",
       "    </tr>\n",
       "    <tr>\n",
       "      <th>5563</th>\n",
       "      <td>6</td>\n",
       "    </tr>\n",
       "    <tr>\n",
       "      <th>5564</th>\n",
       "      <td>2</td>\n",
       "    </tr>\n",
       "    <tr>\n",
       "      <th>5565</th>\n",
       "      <td>4</td>\n",
       "    </tr>\n",
       "  </tbody>\n",
       "</table>\n",
       "<p>4176 rows × 1 columns</p>\n",
       "</div>"
      ],
      "text/plain": [
       "      Bedrooms\n",
       "0            2\n",
       "1            2\n",
       "2            2\n",
       "3            2\n",
       "4            1\n",
       "...        ...\n",
       "5561         2\n",
       "5562         4\n",
       "5563         6\n",
       "5564         2\n",
       "5565         4\n",
       "\n",
       "[4176 rows x 1 columns]"
      ]
     },
     "execution_count": 23,
     "metadata": {},
     "output_type": "execute_result"
    }
   ],
   "source": [
    "merged_df[[\"Bedrooms\"]]"
   ]
  },
  {
   "cell_type": "code",
   "execution_count": 24,
   "id": "7c4cb367-e4bc-48d5-a7ae-20dcbb4ff182",
   "metadata": {},
   "outputs": [
    {
     "data": {
      "text/plain": [
       "array([115.0, nan, 900.0, 5000.0, 60.0, 100.0, 131440.0, 300.0, 70.0,\n",
       "       496.0, 30.0, 8.0, 80.0, 600.0, 101.0, 170.0, 50.0, 9.0, 2000.0,\n",
       "       20.0, 140.0, 250.0, 1.0, 104.0, 480.0, 65.0, 850.0, 75.0, 190.0,\n",
       "       25.0, 230.0, 1000.0, 90.0, 36.0, 3000.0, 40.0, 88.0, 141.0, 550.0,\n",
       "       200.0, 130.0, 61.0, 380.0, 150.0, 120.0, 123.0, 1234.0, 85.0,\n",
       "       2500.0, 500.0, 400.0, 185.0, 1200.0, 110.0, 450.0, 10.0, 96.0,\n",
       "       95.0, 180.0, 188.0, 350.0, 555.0, 113.0, 120000.0, 125.0, 280.0,\n",
       "       222.0, 54.0, 2.0, 48.0, 56.0, 7000.0, 26.0, 240.0, 160.0, 105.0,\n",
       "       29.0, 89.0, 2200.0, 11.0, 570.0, 1400.0, 3678.0, 220.0, 335.0,\n",
       "       1056.0, 580.0, 63.0, 416.0, 620.0, 225.0, 320.0, 76.0, 92.0, 78.0,\n",
       "       72.0, 122.0, 5607.0, 69.0, 205.0, 51.0, 102.0, 340.0, 57.0, 270.0,\n",
       "       53.0, 800.0, 82.0, 1100.0, 111.0, 1800.0, 135.0, 360.0, 118.0,\n",
       "       605.0, 145.0, 157.0, 12.0, 15.0, 28.0, 119.0, 33.0, 35.0, 98.0,\n",
       "       660.0, 235.0, 62.0, 420.0, 86.0, 45.0, 7.0, 1300.0, 1600.0, 650.0,\n",
       "       11116.0, 195.0, 330.0, 368.0, 700.0, 460.0, 51515.0, 17.0, 91.0,\n",
       "       68.0, 210.0, 6.0, 16.0, 99.0, 83.0, 426.0, 418.0, 750.0, 165.0,\n",
       "       131.0, 306.0, 32.0, 142.0, 215.0, 18.0, 310.0, 39.0, 559.0, 58.0,\n",
       "       44.0, 192.0, 333.0, 23.0, 275.0, 1780.0, 404.0, 175.0, 21.0, 288.0,\n",
       "       46.0, 1500.0, 116.0, 55.0, 153.0, 5.0, 396.0, 540.0, 445.0, 4.0,\n",
       "       425.0, 193.0, 640.0, 64.0, 24.0, 375.0, 98987504.0, 3.0, 720.0,\n",
       "       132.0, 103.0, 2147483647.0, 351.0, 421.0, 173.0, 111111.0, 71.0,\n",
       "       703.0, 999.0, 146.0, 74.0, 1111.0, 161.0, 14.0, 79.0, 41.0, 325.0,\n",
       "       290.0, 676.0, 112.0, 1180.0, 312.0, 206.0, 258.0, 234.0, 43.0,\n",
       "       684.0, 840.0, 390.0, 344.0, 1000000.0, 244.0, 20000.0, 345.0,\n",
       "       155.0, 429.0, 133.0, 94.0, 25555.0, 999999.0, 607.0, 10002.0,\n",
       "       182.0, 246.0, 353.0, 292.0, 42.0, 77.0, 262.0, 93.0, 347.0, 318.0,\n",
       "       260.0, 352.0, 950.0, 708.0, 187.0, 121.0, 107.0, 624.0, 295.0,\n",
       "       52.0, 128.0, 159.0, 194.0, 304.0, 358.0, 1080.0, 22222.0, 534.0,\n",
       "       1150.0, 443.0, 47.0, 22.0, 490.0, 2020.0, 252.0, 688.0, 2888.0,\n",
       "       100000000.0, 4000.0, 38.0, 770.0, 245.0, 97.0, 52885.0, 298.0,\n",
       "       99999.0, 283.0, 37.0, 139.0, 790.0, 1217.0, 49.0, 1110.0, 204.0,\n",
       "       470.0, 121212.0, 158.0, 108.0, 66.0, 354.0, 5000000.0, 212.0,\n",
       "       22000.0, 151.0, 767.0, 127.0, 355.0, 1365.0, 451.0, 680.0, 1250.0,\n",
       "       254.0, 276.0, 257.0, 530.0, 228.0, 525.0, 331.0, 289.0, 8000.0,\n",
       "       754.0, 317.0, 515.0, 2076.0, 73.0, 666.0, 101111111.0, 285.0,\n",
       "       277.0, 111000.0, 12346.0, 5055555.0, 279.0, 117.0, 670.0, 126.0,\n",
       "       280000.0, 14000.0, 1555.0, 430.0, 10000.0, 405.0, 440.0, 412.0,\n",
       "       256.0, 46545.0, 2176.0, 1900.0, 909.0, 27.0, 144.0, 61111.0,\n",
       "       40668.0, 1155.0, 390000.0, 2085.0, 385.0, 920.0, 560.0, 100000.0,\n",
       "       463.0, 31.0, 201.0, 1222.0, 6009.0, 346.0, 13000.0, 890.0, 183.0,\n",
       "       531.0, 915.0, 114.0, 5085.0, 1776.0, 10111.0, 314.0, 370.0, 2592.0,\n",
       "       1200000.0, 327.0, 2400.0, 512.0, 87.0, 3500.0, 186.0, '65', '39',\n",
       "       '51.63', '1255', '200', '55', '300', '415', '150', '250', '600',\n",
       "       '175', '583', '84', '143', '++135', '1400', '97', '++260', '1000',\n",
       "       '739', '529', '556', '780.42', '172', '82', '++350', '416', '750',\n",
       "       '94 / 72', '135', '350', '+-130', '+-80', '5000', '47.5', '+-350',\n",
       "       '120', '100', '32', '290', '370', '+-85', '+-300', '+-155.3', '75',\n",
       "       '17.5', '170', '+-340', '+-400'], dtype=object)"
      ]
     },
     "execution_count": 24,
     "metadata": {},
     "output_type": "execute_result"
    }
   ],
   "source": [
    "merged_df[\"Size\"].unique()"
   ]
  },
  {
   "cell_type": "code",
   "execution_count": 25,
   "id": "a0375624-18ef-445a-a9d2-da7ad9618618",
   "metadata": {},
   "outputs": [],
   "source": [
    "# Step 1: Convert to string\n",
    "merged_df[\"Size\"] = merged_df[\"Size\"].astype(str)\n",
    "\n",
    "# Step 2: Clean each value\n",
    "merged_df[\"Size\"] = (\n",
    "    merged_df[\"Size\"]\n",
    "    .str.strip()                            # Remove leading/trailing spaces\n",
    "    .str.split(\"/\").str[0]                  # Take first part if there's a \"/\"\n",
    "    .str.replace(r\"[^\\d.]\", \"\", regex=True) # Remove all non-numeric characters except dot\n",
    ")\n",
    "\n",
    "# Step 3: Convert to float\n",
    "merged_df[\"Size\"] = pd.to_numeric(merged_df[\"Size\"], errors=\"coerce\")\n",
    "\n",
    "# Step 4: Fill nulls with mode\n",
    "mode_value = merged_df[\"Size\"].mode()[0]\n",
    "merged_df[\"Size\"] = merged_df[\"Size\"].fillna(mode_value)"
   ]
  },
  {
   "cell_type": "code",
   "execution_count": 26,
   "id": "0fb12ec4-bcf2-4211-a21d-9084469d6724",
   "metadata": {},
   "outputs": [
    {
     "data": {
      "text/plain": [
       "Property Title    0\n",
       "Location          0\n",
       "Bedrooms          0\n",
       "Price             0\n",
       "Size              0\n",
       "Listing Type      0\n",
       "dtype: int64"
      ]
     },
     "execution_count": 26,
     "metadata": {},
     "output_type": "execute_result"
    }
   ],
   "source": [
    "merged_df.isnull().sum()"
   ]
  },
  {
   "cell_type": "code",
   "execution_count": 27,
   "id": "1f6701d1-7c92-4e20-aac4-e4e5ccd0c8f2",
   "metadata": {},
   "outputs": [
    {
     "data": {
      "text/html": [
       "<div>\n",
       "<style scoped>\n",
       "    .dataframe tbody tr th:only-of-type {\n",
       "        vertical-align: middle;\n",
       "    }\n",
       "\n",
       "    .dataframe tbody tr th {\n",
       "        vertical-align: top;\n",
       "    }\n",
       "\n",
       "    .dataframe thead th {\n",
       "        text-align: right;\n",
       "    }\n",
       "</style>\n",
       "<table border=\"1\" class=\"dataframe\">\n",
       "  <thead>\n",
       "    <tr style=\"text-align: right;\">\n",
       "      <th></th>\n",
       "      <th>Size</th>\n",
       "    </tr>\n",
       "  </thead>\n",
       "  <tbody>\n",
       "    <tr>\n",
       "      <th>0</th>\n",
       "      <td>115.0</td>\n",
       "    </tr>\n",
       "    <tr>\n",
       "      <th>1</th>\n",
       "      <td>100.0</td>\n",
       "    </tr>\n",
       "    <tr>\n",
       "      <th>2</th>\n",
       "      <td>900.0</td>\n",
       "    </tr>\n",
       "    <tr>\n",
       "      <th>3</th>\n",
       "      <td>5000.0</td>\n",
       "    </tr>\n",
       "    <tr>\n",
       "      <th>4</th>\n",
       "      <td>60.0</td>\n",
       "    </tr>\n",
       "    <tr>\n",
       "      <th>...</th>\n",
       "      <td>...</td>\n",
       "    </tr>\n",
       "    <tr>\n",
       "      <th>5561</th>\n",
       "      <td>170.0</td>\n",
       "    </tr>\n",
       "    <tr>\n",
       "      <th>5562</th>\n",
       "      <td>340.0</td>\n",
       "    </tr>\n",
       "    <tr>\n",
       "      <th>5563</th>\n",
       "      <td>350.0</td>\n",
       "    </tr>\n",
       "    <tr>\n",
       "      <th>5564</th>\n",
       "      <td>100.0</td>\n",
       "    </tr>\n",
       "    <tr>\n",
       "      <th>5565</th>\n",
       "      <td>400.0</td>\n",
       "    </tr>\n",
       "  </tbody>\n",
       "</table>\n",
       "<p>4176 rows × 1 columns</p>\n",
       "</div>"
      ],
      "text/plain": [
       "        Size\n",
       "0      115.0\n",
       "1      100.0\n",
       "2      900.0\n",
       "3     5000.0\n",
       "4       60.0\n",
       "...      ...\n",
       "5561   170.0\n",
       "5562   340.0\n",
       "5563   350.0\n",
       "5564   100.0\n",
       "5565   400.0\n",
       "\n",
       "[4176 rows x 1 columns]"
      ]
     },
     "execution_count": 27,
     "metadata": {},
     "output_type": "execute_result"
    }
   ],
   "source": [
    "merged_df[[\"Size\"]]"
   ]
  },
  {
   "cell_type": "code",
   "execution_count": 28,
   "id": "a8db2098-0057-4be3-8ab4-76edf4815913",
   "metadata": {},
   "outputs": [
    {
     "data": {
      "text/plain": [
       "(4176, 6)"
      ]
     },
     "execution_count": 28,
     "metadata": {},
     "output_type": "execute_result"
    }
   ],
   "source": [
    "merged_df.shape"
   ]
  },
  {
   "cell_type": "code",
   "execution_count": 29,
   "id": "25108b9f-85ba-4356-9d2e-1b28452b85e6",
   "metadata": {},
   "outputs": [
    {
     "name": "stdout",
     "output_type": "stream",
     "text": [
      "<class 'pandas.core.frame.DataFrame'>\n",
      "Index: 4176 entries, 0 to 5565\n",
      "Data columns (total 6 columns):\n",
      " #   Column          Non-Null Count  Dtype  \n",
      "---  ------          --------------  -----  \n",
      " 0   Property Title  4176 non-null   object \n",
      " 1   Location        4176 non-null   object \n",
      " 2   Bedrooms        4176 non-null   int32  \n",
      " 3   Price           4176 non-null   float64\n",
      " 4   Size            4176 non-null   float64\n",
      " 5   Listing Type    4176 non-null   object \n",
      "dtypes: float64(2), int32(1), object(3)\n",
      "memory usage: 212.1+ KB\n"
     ]
    }
   ],
   "source": [
    "merged_df.info()"
   ]
  },
  {
   "cell_type": "code",
   "execution_count": 31,
   "id": "8282df79-9d27-4204-89e5-b50c23bfb508",
   "metadata": {},
   "outputs": [],
   "source": [
    "merged_df.to_csv(\"RealEstate_Dataset [Cleaned].csv\",index = False)"
   ]
  }
 ],
 "metadata": {
  "kernelspec": {
   "display_name": "Python [conda env:base] *",
   "language": "python",
   "name": "conda-base-py"
  },
  "language_info": {
   "codemirror_mode": {
    "name": "ipython",
    "version": 3
   },
   "file_extension": ".py",
   "mimetype": "text/x-python",
   "name": "python",
   "nbconvert_exporter": "python",
   "pygments_lexer": "ipython3",
   "version": "3.12.7"
  }
 },
 "nbformat": 4,
 "nbformat_minor": 5
}
