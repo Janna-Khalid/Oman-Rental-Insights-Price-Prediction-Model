{
 "cells": [
  {
   "cell_type": "markdown",
   "id": "b98fd17f-4908-44fe-96e8-b5a4e1abea20",
   "metadata": {},
   "source": [
    "# Data Cleaning"
   ]
  },
  {
   "cell_type": "markdown",
   "id": "5a3a8203-9b93-43b3-92d1-9bb7dc0dd261",
   "metadata": {},
   "source": [
    "### `Open Sooq` Data Cleaning"
   ]
  },
  {
   "cell_type": "code",
   "execution_count": 2,
   "id": "e396226d-d7d4-4f64-8d5b-158bfc931f2d",
   "metadata": {},
   "outputs": [],
   "source": [
    "import numpy as np\n",
    "import pandas as pd"
   ]
  },
  {
   "cell_type": "code",
   "execution_count": 18,
   "id": "da3b75da-3488-4d77-baa0-881334d9269f",
   "metadata": {},
   "outputs": [
    {
     "data": {
      "text/html": [
       "<div>\n",
       "<style scoped>\n",
       "    .dataframe tbody tr th:only-of-type {\n",
       "        vertical-align: middle;\n",
       "    }\n",
       "\n",
       "    .dataframe tbody tr th {\n",
       "        vertical-align: top;\n",
       "    }\n",
       "\n",
       "    .dataframe thead th {\n",
       "        text-align: right;\n",
       "    }\n",
       "</style>\n",
       "<table border=\"1\" class=\"dataframe\">\n",
       "  <thead>\n",
       "    <tr style=\"text-align: right;\">\n",
       "      <th></th>\n",
       "      <th>propert_title</th>\n",
       "      <th>propert_location</th>\n",
       "      <th>price</th>\n",
       "      <th>area</th>\n",
       "      <th>listing_type</th>\n",
       "    </tr>\n",
       "  </thead>\n",
       "  <tbody>\n",
       "    <tr>\n",
       "      <th>0</th>\n",
       "      <td>120000 m2 3 Bedrooms Apartments for Rent in Dh...</td>\n",
       "      <td>Dhofar, Salala</td>\n",
       "      <td>35 OMR</td>\n",
       "      <td>120000.0</td>\n",
       "      <td>For Rent</td>\n",
       "    </tr>\n",
       "    <tr>\n",
       "      <th>1</th>\n",
       "      <td>3 Bedrooms Chalet for Rent in Dhofar Salala</td>\n",
       "      <td>Dhofar, Salala</td>\n",
       "      <td>NaN</td>\n",
       "      <td>250.0</td>\n",
       "      <td>For Rent</td>\n",
       "    </tr>\n",
       "    <tr>\n",
       "      <th>2</th>\n",
       "      <td>10 m2 Studio Apartments for Rent in Muscat Amerat</td>\n",
       "      <td>Muscat, Amerat</td>\n",
       "      <td>7 OMR</td>\n",
       "      <td>10.0</td>\n",
       "      <td>For Rent</td>\n",
       "    </tr>\n",
       "    <tr>\n",
       "      <th>3</th>\n",
       "      <td>Furnished Daily in Muscat Al Mawaleh</td>\n",
       "      <td>Muscat, Al Mawaleh</td>\n",
       "      <td>8 OMR</td>\n",
       "      <td>NaN</td>\n",
       "      <td>For Rent</td>\n",
       "    </tr>\n",
       "    <tr>\n",
       "      <th>4</th>\n",
       "      <td>للإيجار مكتب  تجاري واجهة على شارع مزون - معرض...</td>\n",
       "      <td>Muscat, Al Khoud</td>\n",
       "      <td>600 OMR</td>\n",
       "      <td>125.0</td>\n",
       "      <td>For Rent</td>\n",
       "    </tr>\n",
       "  </tbody>\n",
       "</table>\n",
       "</div>"
      ],
      "text/plain": [
       "                                       propert_title    propert_location  \\\n",
       "0  120000 m2 3 Bedrooms Apartments for Rent in Dh...      Dhofar, Salala   \n",
       "1        3 Bedrooms Chalet for Rent in Dhofar Salala      Dhofar, Salala   \n",
       "2  10 m2 Studio Apartments for Rent in Muscat Amerat      Muscat, Amerat   \n",
       "3               Furnished Daily in Muscat Al Mawaleh  Muscat, Al Mawaleh   \n",
       "4  للإيجار مكتب  تجاري واجهة على شارع مزون - معرض...    Muscat, Al Khoud   \n",
       "\n",
       "     price      area listing_type  \n",
       "0   35 OMR  120000.0     For Rent  \n",
       "1      NaN     250.0     For Rent  \n",
       "2    7 OMR      10.0     For Rent  \n",
       "3    8 OMR       NaN     For Rent  \n",
       "4  600 OMR     125.0     For Rent  "
      ]
     },
     "execution_count": 18,
     "metadata": {},
     "output_type": "execute_result"
    }
   ],
   "source": [
    "df_opensooq = pd.read_csv(r\"OpenSooq.csv\")\n",
    "df_opensooq.head()"
   ]
  },
  {
   "cell_type": "code",
   "execution_count": 19,
   "id": "5c91c608-581b-4fa0-a1eb-2d6c1066e59f",
   "metadata": {},
   "outputs": [
    {
     "data": {
      "text/plain": [
       "(5460, 5)"
      ]
     },
     "execution_count": 19,
     "metadata": {},
     "output_type": "execute_result"
    }
   ],
   "source": [
    "df_opensooq.shape"
   ]
  },
  {
   "cell_type": "code",
   "execution_count": 20,
   "id": "d6131c06-0783-4a00-b23c-add9ca65e4ff",
   "metadata": {},
   "outputs": [
    {
     "name": "stdout",
     "output_type": "stream",
     "text": [
      "<class 'pandas.core.frame.DataFrame'>\n",
      "RangeIndex: 5460 entries, 0 to 5459\n",
      "Data columns (total 5 columns):\n",
      " #   Column            Non-Null Count  Dtype  \n",
      "---  ------            --------------  -----  \n",
      " 0   propert_title     5460 non-null   object \n",
      " 1   propert_location  5460 non-null   object \n",
      " 2   price             5352 non-null   object \n",
      " 3   area              4308 non-null   float64\n",
      " 4   listing_type      5460 non-null   object \n",
      "dtypes: float64(1), object(4)\n",
      "memory usage: 213.4+ KB\n"
     ]
    }
   ],
   "source": [
    "df_opensooq.info()"
   ]
  },
  {
   "cell_type": "code",
   "execution_count": 21,
   "id": "0d8e0ccf-eceb-4d59-afa8-aaadf87b6c56",
   "metadata": {},
   "outputs": [
    {
     "data": {
      "text/html": [
       "<div>\n",
       "<style scoped>\n",
       "    .dataframe tbody tr th:only-of-type {\n",
       "        vertical-align: middle;\n",
       "    }\n",
       "\n",
       "    .dataframe tbody tr th {\n",
       "        vertical-align: top;\n",
       "    }\n",
       "\n",
       "    .dataframe thead th {\n",
       "        text-align: right;\n",
       "    }\n",
       "</style>\n",
       "<table border=\"1\" class=\"dataframe\">\n",
       "  <thead>\n",
       "    <tr style=\"text-align: right;\">\n",
       "      <th></th>\n",
       "      <th>price</th>\n",
       "    </tr>\n",
       "  </thead>\n",
       "  <tbody>\n",
       "    <tr>\n",
       "      <th>0</th>\n",
       "      <td>35.0</td>\n",
       "    </tr>\n",
       "    <tr>\n",
       "      <th>1</th>\n",
       "      <td>NaN</td>\n",
       "    </tr>\n",
       "    <tr>\n",
       "      <th>2</th>\n",
       "      <td>7.0</td>\n",
       "    </tr>\n",
       "    <tr>\n",
       "      <th>3</th>\n",
       "      <td>8.0</td>\n",
       "    </tr>\n",
       "    <tr>\n",
       "      <th>4</th>\n",
       "      <td>600.0</td>\n",
       "    </tr>\n",
       "    <tr>\n",
       "      <th>...</th>\n",
       "      <td>...</td>\n",
       "    </tr>\n",
       "    <tr>\n",
       "      <th>5455</th>\n",
       "      <td>275.0</td>\n",
       "    </tr>\n",
       "    <tr>\n",
       "      <th>5456</th>\n",
       "      <td>50.0</td>\n",
       "    </tr>\n",
       "    <tr>\n",
       "      <th>5457</th>\n",
       "      <td>120.0</td>\n",
       "    </tr>\n",
       "    <tr>\n",
       "      <th>5458</th>\n",
       "      <td>450.0</td>\n",
       "    </tr>\n",
       "    <tr>\n",
       "      <th>5459</th>\n",
       "      <td>3.0</td>\n",
       "    </tr>\n",
       "  </tbody>\n",
       "</table>\n",
       "<p>5460 rows × 1 columns</p>\n",
       "</div>"
      ],
      "text/plain": [
       "      price\n",
       "0      35.0\n",
       "1       NaN\n",
       "2       7.0\n",
       "3       8.0\n",
       "4     600.0\n",
       "...     ...\n",
       "5455  275.0\n",
       "5456   50.0\n",
       "5457  120.0\n",
       "5458  450.0\n",
       "5459    3.0\n",
       "\n",
       "[5460 rows x 1 columns]"
      ]
     },
     "execution_count": 21,
     "metadata": {},
     "output_type": "execute_result"
    }
   ],
   "source": [
    "df_opensooq[\"price\"] = (df_opensooq[\"price\"].str.replace(\"OMR\", \"\", regex = False).str.replace(\",\", \"\", regex = False).str.strip())\n",
    "df_opensooq[\"price\"] = pd.to_numeric(df_opensooq[\"price\"], errors = \"coerce\")\n",
    "df_opensooq[[\"price\"]]"
   ]
  },
  {
   "cell_type": "code",
   "execution_count": 22,
   "id": "35c79aec-bf11-4b72-8675-7ca365e938fb",
   "metadata": {},
   "outputs": [
    {
     "data": {
      "text/plain": [
       "propert_title          0\n",
       "propert_location       0\n",
       "price                108\n",
       "area                1152\n",
       "listing_type           0\n",
       "dtype: int64"
      ]
     },
     "execution_count": 22,
     "metadata": {},
     "output_type": "execute_result"
    }
   ],
   "source": [
    "df_opensooq.isnull().sum()"
   ]
  },
  {
   "cell_type": "code",
   "execution_count": 23,
   "id": "7b9bd4d6-c290-46dc-a116-d0b70b408263",
   "metadata": {},
   "outputs": [
    {
     "name": "stderr",
     "output_type": "stream",
     "text": [
      "C:\\Users\\bbuser\\AppData\\Local\\Temp\\ipykernel_22128\\1500799700.py:1: FutureWarning: A value is trying to be set on a copy of a DataFrame or Series through chained assignment using an inplace method.\n",
      "The behavior will change in pandas 3.0. This inplace method will never work because the intermediate object on which we are setting values always behaves as a copy.\n",
      "\n",
      "For example, when doing 'df[col].method(value, inplace=True)', try using 'df.method({col: value}, inplace=True)' or df[col] = df[col].method(value) instead, to perform the operation inplace on the original object.\n",
      "\n",
      "\n",
      "  df_opensooq[\"price\"].fillna(df_opensooq[\"price\"].mode()[0], inplace=True)\n"
     ]
    },
    {
     "data": {
      "text/html": [
       "<div>\n",
       "<style scoped>\n",
       "    .dataframe tbody tr th:only-of-type {\n",
       "        vertical-align: middle;\n",
       "    }\n",
       "\n",
       "    .dataframe tbody tr th {\n",
       "        vertical-align: top;\n",
       "    }\n",
       "\n",
       "    .dataframe thead th {\n",
       "        text-align: right;\n",
       "    }\n",
       "</style>\n",
       "<table border=\"1\" class=\"dataframe\">\n",
       "  <thead>\n",
       "    <tr style=\"text-align: right;\">\n",
       "      <th></th>\n",
       "      <th>price</th>\n",
       "    </tr>\n",
       "  </thead>\n",
       "  <tbody>\n",
       "    <tr>\n",
       "      <th>0</th>\n",
       "      <td>35.0</td>\n",
       "    </tr>\n",
       "    <tr>\n",
       "      <th>1</th>\n",
       "      <td>25.0</td>\n",
       "    </tr>\n",
       "    <tr>\n",
       "      <th>2</th>\n",
       "      <td>7.0</td>\n",
       "    </tr>\n",
       "    <tr>\n",
       "      <th>3</th>\n",
       "      <td>8.0</td>\n",
       "    </tr>\n",
       "    <tr>\n",
       "      <th>4</th>\n",
       "      <td>600.0</td>\n",
       "    </tr>\n",
       "    <tr>\n",
       "      <th>...</th>\n",
       "      <td>...</td>\n",
       "    </tr>\n",
       "    <tr>\n",
       "      <th>5455</th>\n",
       "      <td>275.0</td>\n",
       "    </tr>\n",
       "    <tr>\n",
       "      <th>5456</th>\n",
       "      <td>50.0</td>\n",
       "    </tr>\n",
       "    <tr>\n",
       "      <th>5457</th>\n",
       "      <td>120.0</td>\n",
       "    </tr>\n",
       "    <tr>\n",
       "      <th>5458</th>\n",
       "      <td>450.0</td>\n",
       "    </tr>\n",
       "    <tr>\n",
       "      <th>5459</th>\n",
       "      <td>3.0</td>\n",
       "    </tr>\n",
       "  </tbody>\n",
       "</table>\n",
       "<p>5460 rows × 1 columns</p>\n",
       "</div>"
      ],
      "text/plain": [
       "      price\n",
       "0      35.0\n",
       "1      25.0\n",
       "2       7.0\n",
       "3       8.0\n",
       "4     600.0\n",
       "...     ...\n",
       "5455  275.0\n",
       "5456   50.0\n",
       "5457  120.0\n",
       "5458  450.0\n",
       "5459    3.0\n",
       "\n",
       "[5460 rows x 1 columns]"
      ]
     },
     "execution_count": 23,
     "metadata": {},
     "output_type": "execute_result"
    }
   ],
   "source": [
    "df_opensooq[\"price\"].fillna(df_opensooq[\"price\"].mode()[0], inplace=True)\n",
    "df_opensooq[\"price\"] = df_opensooq[\"price\"].astype(str).str.split().str[0].str.replace(\",\", \"\").astype(float)\n",
    "df_opensooq[[\"price\"]]"
   ]
  },
  {
   "cell_type": "code",
   "execution_count": 25,
   "id": "60a08c5c-bacb-4d61-927e-e9ed36144863",
   "metadata": {},
   "outputs": [],
   "source": [
    "df_opensooq[\"area\"] = df_opensooq[\"area\"].ffill().bfill()"
   ]
  },
  {
   "cell_type": "code",
   "execution_count": 26,
   "id": "f60ca7a5-0306-4e68-b411-63abca65b33a",
   "metadata": {},
   "outputs": [
    {
     "data": {
      "text/html": [
       "<div>\n",
       "<style scoped>\n",
       "    .dataframe tbody tr th:only-of-type {\n",
       "        vertical-align: middle;\n",
       "    }\n",
       "\n",
       "    .dataframe tbody tr th {\n",
       "        vertical-align: top;\n",
       "    }\n",
       "\n",
       "    .dataframe thead th {\n",
       "        text-align: right;\n",
       "    }\n",
       "</style>\n",
       "<table border=\"1\" class=\"dataframe\">\n",
       "  <thead>\n",
       "    <tr style=\"text-align: right;\">\n",
       "      <th></th>\n",
       "      <th>area</th>\n",
       "    </tr>\n",
       "  </thead>\n",
       "  <tbody>\n",
       "    <tr>\n",
       "      <th>0</th>\n",
       "      <td>120000.0</td>\n",
       "    </tr>\n",
       "    <tr>\n",
       "      <th>1</th>\n",
       "      <td>250.0</td>\n",
       "    </tr>\n",
       "    <tr>\n",
       "      <th>2</th>\n",
       "      <td>10.0</td>\n",
       "    </tr>\n",
       "    <tr>\n",
       "      <th>3</th>\n",
       "      <td>10.0</td>\n",
       "    </tr>\n",
       "    <tr>\n",
       "      <th>4</th>\n",
       "      <td>125.0</td>\n",
       "    </tr>\n",
       "    <tr>\n",
       "      <th>...</th>\n",
       "      <td>...</td>\n",
       "    </tr>\n",
       "    <tr>\n",
       "      <th>5455</th>\n",
       "      <td>70.0</td>\n",
       "    </tr>\n",
       "    <tr>\n",
       "      <th>5456</th>\n",
       "      <td>70.0</td>\n",
       "    </tr>\n",
       "    <tr>\n",
       "      <th>5457</th>\n",
       "      <td>70.0</td>\n",
       "    </tr>\n",
       "    <tr>\n",
       "      <th>5458</th>\n",
       "      <td>300.0</td>\n",
       "    </tr>\n",
       "    <tr>\n",
       "      <th>5459</th>\n",
       "      <td>300.0</td>\n",
       "    </tr>\n",
       "  </tbody>\n",
       "</table>\n",
       "<p>5460 rows × 1 columns</p>\n",
       "</div>"
      ],
      "text/plain": [
       "          area\n",
       "0     120000.0\n",
       "1        250.0\n",
       "2         10.0\n",
       "3         10.0\n",
       "4        125.0\n",
       "...        ...\n",
       "5455      70.0\n",
       "5456      70.0\n",
       "5457      70.0\n",
       "5458     300.0\n",
       "5459     300.0\n",
       "\n",
       "[5460 rows x 1 columns]"
      ]
     },
     "execution_count": 26,
     "metadata": {},
     "output_type": "execute_result"
    }
   ],
   "source": [
    "df_opensooq[[\"area\"]]"
   ]
  },
  {
   "cell_type": "code",
   "execution_count": 27,
   "id": "4d174369-764a-445a-9dba-9deded53cb69",
   "metadata": {},
   "outputs": [
    {
     "data": {
      "text/plain": [
       "propert_title       0\n",
       "propert_location    0\n",
       "price               0\n",
       "area                0\n",
       "listing_type        0\n",
       "dtype: int64"
      ]
     },
     "execution_count": 27,
     "metadata": {},
     "output_type": "execute_result"
    }
   ],
   "source": [
    "df_opensooq.isnull().sum()"
   ]
  },
  {
   "cell_type": "code",
   "execution_count": 28,
   "id": "afe673ca-47bd-40c3-96b2-0215702d5217",
   "metadata": {},
   "outputs": [
    {
     "data": {
      "text/plain": [
       "995"
      ]
     },
     "execution_count": 28,
     "metadata": {},
     "output_type": "execute_result"
    }
   ],
   "source": [
    "df_opensooq.duplicated().sum()"
   ]
  },
  {
   "cell_type": "code",
   "execution_count": 29,
   "id": "5b71b186-d35a-4404-821e-bd294a234349",
   "metadata": {},
   "outputs": [],
   "source": [
    "df_opensooq.drop_duplicates(keep='first', inplace=True)"
   ]
  },
  {
   "cell_type": "code",
   "execution_count": 51,
   "id": "cb2dc710-9417-4e34-a277-40715bba4ecf",
   "metadata": {},
   "outputs": [
    {
     "data": {
      "text/plain": [
       "Index(['propert_title', 'propert_location', 'price', 'area', 'listing_type'], dtype='object')"
      ]
     },
     "execution_count": 51,
     "metadata": {},
     "output_type": "execute_result"
    }
   ],
   "source": [
    "df_opensooq.columns"
   ]
  },
  {
   "cell_type": "code",
   "execution_count": 52,
   "id": "d9e854e3-98c2-4292-a950-16d12a68c7b9",
   "metadata": {},
   "outputs": [],
   "source": [
    "df_opensooq.rename(columns={\"propert_title\": \"property_title\",\"propert_location\": \"property_location\"}, inplace=True)"
   ]
  },
  {
   "cell_type": "markdown",
   "id": "c7e982f2-fd08-499f-b5a3-c08460ab0da8",
   "metadata": {},
   "source": [
    "### `Hilal` Data Cleaning"
   ]
  },
  {
   "cell_type": "code",
   "execution_count": 41,
   "id": "7a343ebc-e7e4-4c9c-ab31-fc357b8d3936",
   "metadata": {},
   "outputs": [
    {
     "data": {
      "text/html": [
       "<div>\n",
       "<style scoped>\n",
       "    .dataframe tbody tr th:only-of-type {\n",
       "        vertical-align: middle;\n",
       "    }\n",
       "\n",
       "    .dataframe tbody tr th {\n",
       "        vertical-align: top;\n",
       "    }\n",
       "\n",
       "    .dataframe thead th {\n",
       "        text-align: right;\n",
       "    }\n",
       "</style>\n",
       "<table border=\"1\" class=\"dataframe\">\n",
       "  <thead>\n",
       "    <tr style=\"text-align: right;\">\n",
       "      <th></th>\n",
       "      <th>property_title</th>\n",
       "      <th>property_location</th>\n",
       "      <th>price</th>\n",
       "      <th>area</th>\n",
       "      <th>listing_type</th>\n",
       "    </tr>\n",
       "  </thead>\n",
       "  <tbody>\n",
       "    <tr>\n",
       "      <th>0</th>\n",
       "      <td>2-BEDROOM APARTMENT</td>\n",
       "      <td>Al Ansab</td>\n",
       "      <td>300</td>\n",
       "      <td>NaN</td>\n",
       "      <td>For Rent</td>\n",
       "    </tr>\n",
       "    <tr>\n",
       "      <th>1</th>\n",
       "      <td>2-BEDROOM APARTMENT</td>\n",
       "      <td>Shatti Al Qurum</td>\n",
       "      <td>500</td>\n",
       "      <td>NaN</td>\n",
       "      <td>For Rent</td>\n",
       "    </tr>\n",
       "    <tr>\n",
       "      <th>2</th>\n",
       "      <td>4+1 BEDROOM TWIN VILLA</td>\n",
       "      <td>Madinat Qaboos (MQ)</td>\n",
       "      <td>1500</td>\n",
       "      <td>NaN</td>\n",
       "      <td>For Rent</td>\n",
       "    </tr>\n",
       "    <tr>\n",
       "      <th>3</th>\n",
       "      <td>COMMERCIAL SHOP</td>\n",
       "      <td>Ghala</td>\n",
       "      <td>370</td>\n",
       "      <td>39</td>\n",
       "      <td>For Rent</td>\n",
       "    </tr>\n",
       "    <tr>\n",
       "      <th>4</th>\n",
       "      <td>COMMERCIAL OFFICE SPACE</td>\n",
       "      <td>Bausher</td>\n",
       "      <td>4</td>\n",
       "      <td>NaN</td>\n",
       "      <td>For Rent</td>\n",
       "    </tr>\n",
       "  </tbody>\n",
       "</table>\n",
       "</div>"
      ],
      "text/plain": [
       "            property_title    property_location  price area listing_type\n",
       "0      2-BEDROOM APARTMENT             Al Ansab    300  NaN     For Rent\n",
       "1      2-BEDROOM APARTMENT      Shatti Al Qurum    500  NaN     For Rent\n",
       "2   4+1 BEDROOM TWIN VILLA  Madinat Qaboos (MQ)   1500  NaN     For Rent\n",
       "3          COMMERCIAL SHOP                Ghala    370   39     For Rent\n",
       "4  COMMERCIAL OFFICE SPACE              Bausher      4  NaN     For Rent"
      ]
     },
     "execution_count": 41,
     "metadata": {},
     "output_type": "execute_result"
    }
   ],
   "source": [
    "df_hilal = pd.read_csv(r\"hilal.csv\")\n",
    "df_hilal.head()"
   ]
  },
  {
   "cell_type": "code",
   "execution_count": 42,
   "id": "5e56c9c5-82d6-470e-b585-063e0cd79e1c",
   "metadata": {},
   "outputs": [
    {
     "data": {
      "text/plain": [
       "(173, 5)"
      ]
     },
     "execution_count": 42,
     "metadata": {},
     "output_type": "execute_result"
    }
   ],
   "source": [
    "df_hilal.shape"
   ]
  },
  {
   "cell_type": "code",
   "execution_count": 43,
   "id": "559e3648-6126-4d73-87cf-5d86517012fe",
   "metadata": {},
   "outputs": [
    {
     "name": "stdout",
     "output_type": "stream",
     "text": [
      "<class 'pandas.core.frame.DataFrame'>\n",
      "RangeIndex: 173 entries, 0 to 172\n",
      "Data columns (total 5 columns):\n",
      " #   Column             Non-Null Count  Dtype \n",
      "---  ------             --------------  ----- \n",
      " 0   property_title     173 non-null    object\n",
      " 1   property_location  167 non-null    object\n",
      " 2   price              173 non-null    int64 \n",
      " 3   area               67 non-null     object\n",
      " 4   listing_type       173 non-null    object\n",
      "dtypes: int64(1), object(4)\n",
      "memory usage: 6.9+ KB\n"
     ]
    }
   ],
   "source": [
    "df_hilal.info()"
   ]
  },
  {
   "cell_type": "code",
   "execution_count": 44,
   "id": "9dfc148c-5223-4625-b3d8-877bcaee1fea",
   "metadata": {},
   "outputs": [
    {
     "data": {
      "text/html": [
       "<div>\n",
       "<style scoped>\n",
       "    .dataframe tbody tr th:only-of-type {\n",
       "        vertical-align: middle;\n",
       "    }\n",
       "\n",
       "    .dataframe tbody tr th {\n",
       "        vertical-align: top;\n",
       "    }\n",
       "\n",
       "    .dataframe thead th {\n",
       "        text-align: right;\n",
       "    }\n",
       "</style>\n",
       "<table border=\"1\" class=\"dataframe\">\n",
       "  <thead>\n",
       "    <tr style=\"text-align: right;\">\n",
       "      <th></th>\n",
       "      <th>price</th>\n",
       "    </tr>\n",
       "  </thead>\n",
       "  <tbody>\n",
       "    <tr>\n",
       "      <th>0</th>\n",
       "      <td>300</td>\n",
       "    </tr>\n",
       "    <tr>\n",
       "      <th>1</th>\n",
       "      <td>500</td>\n",
       "    </tr>\n",
       "    <tr>\n",
       "      <th>2</th>\n",
       "      <td>1500</td>\n",
       "    </tr>\n",
       "    <tr>\n",
       "      <th>3</th>\n",
       "      <td>370</td>\n",
       "    </tr>\n",
       "    <tr>\n",
       "      <th>4</th>\n",
       "      <td>4</td>\n",
       "    </tr>\n",
       "    <tr>\n",
       "      <th>...</th>\n",
       "      <td>...</td>\n",
       "    </tr>\n",
       "    <tr>\n",
       "      <th>168</th>\n",
       "      <td>350</td>\n",
       "    </tr>\n",
       "    <tr>\n",
       "      <th>169</th>\n",
       "      <td>950</td>\n",
       "    </tr>\n",
       "    <tr>\n",
       "      <th>170</th>\n",
       "      <td>950</td>\n",
       "    </tr>\n",
       "    <tr>\n",
       "      <th>171</th>\n",
       "      <td>475</td>\n",
       "    </tr>\n",
       "    <tr>\n",
       "      <th>172</th>\n",
       "      <td>600</td>\n",
       "    </tr>\n",
       "  </tbody>\n",
       "</table>\n",
       "<p>173 rows × 1 columns</p>\n",
       "</div>"
      ],
      "text/plain": [
       "     price\n",
       "0      300\n",
       "1      500\n",
       "2     1500\n",
       "3      370\n",
       "4        4\n",
       "..     ...\n",
       "168    350\n",
       "169    950\n",
       "170    950\n",
       "171    475\n",
       "172    600\n",
       "\n",
       "[173 rows x 1 columns]"
      ]
     },
     "execution_count": 44,
     "metadata": {},
     "output_type": "execute_result"
    }
   ],
   "source": [
    "# Reload or convert the column back to string\n",
    "df_hilal[\"price\"] = df_hilal[\"price\"].astype(str)\n",
    "\n",
    "# Now clean dashes or unwanted characters\n",
    "df_hilal[\"price\"] = df_hilal[\"price\"].str.replace(\"-\", \"\", regex=False)\n",
    "\n",
    "# Convert back to numeric\n",
    "df_hilal[\"price\"] = pd.to_numeric(df_hilal[\"price\"], errors=\"coerce\")\n",
    "df_hilal[[\"price\"]]"
   ]
  },
  {
   "cell_type": "code",
   "execution_count": 45,
   "id": "c67ab9db-537b-48e7-80a4-3873834ca8a2",
   "metadata": {},
   "outputs": [
    {
     "data": {
      "text/html": [
       "<div>\n",
       "<style scoped>\n",
       "    .dataframe tbody tr th:only-of-type {\n",
       "        vertical-align: middle;\n",
       "    }\n",
       "\n",
       "    .dataframe tbody tr th {\n",
       "        vertical-align: top;\n",
       "    }\n",
       "\n",
       "    .dataframe thead th {\n",
       "        text-align: right;\n",
       "    }\n",
       "</style>\n",
       "<table border=\"1\" class=\"dataframe\">\n",
       "  <thead>\n",
       "    <tr style=\"text-align: right;\">\n",
       "      <th></th>\n",
       "      <th>area</th>\n",
       "    </tr>\n",
       "  </thead>\n",
       "  <tbody>\n",
       "    <tr>\n",
       "      <th>0</th>\n",
       "      <td>39.0</td>\n",
       "    </tr>\n",
       "    <tr>\n",
       "      <th>1</th>\n",
       "      <td>39.0</td>\n",
       "    </tr>\n",
       "    <tr>\n",
       "      <th>2</th>\n",
       "      <td>39.0</td>\n",
       "    </tr>\n",
       "    <tr>\n",
       "      <th>3</th>\n",
       "      <td>39.0</td>\n",
       "    </tr>\n",
       "    <tr>\n",
       "      <th>4</th>\n",
       "      <td>39.0</td>\n",
       "    </tr>\n",
       "    <tr>\n",
       "      <th>...</th>\n",
       "      <td>...</td>\n",
       "    </tr>\n",
       "    <tr>\n",
       "      <th>168</th>\n",
       "      <td>170.0</td>\n",
       "    </tr>\n",
       "    <tr>\n",
       "      <th>169</th>\n",
       "      <td>340.0</td>\n",
       "    </tr>\n",
       "    <tr>\n",
       "      <th>170</th>\n",
       "      <td>350.0</td>\n",
       "    </tr>\n",
       "    <tr>\n",
       "      <th>171</th>\n",
       "      <td>350.0</td>\n",
       "    </tr>\n",
       "    <tr>\n",
       "      <th>172</th>\n",
       "      <td>400.0</td>\n",
       "    </tr>\n",
       "  </tbody>\n",
       "</table>\n",
       "<p>173 rows × 1 columns</p>\n",
       "</div>"
      ],
      "text/plain": [
       "      area\n",
       "0     39.0\n",
       "1     39.0\n",
       "2     39.0\n",
       "3     39.0\n",
       "4     39.0\n",
       "..     ...\n",
       "168  170.0\n",
       "169  340.0\n",
       "170  350.0\n",
       "171  350.0\n",
       "172  400.0\n",
       "\n",
       "[173 rows x 1 columns]"
      ]
     },
     "execution_count": 45,
     "metadata": {},
     "output_type": "execute_result"
    }
   ],
   "source": [
    "# Replace 'Unknown' with NaN\n",
    "df_hilal[\"area\"] = df_hilal[\"area\"].replace(\"Unknown\", np.nan)\n",
    "\n",
    "# Handle entries like '94 / 72' by extracting the first number (before the slash)\n",
    "df_hilal[\"area\"] = df_hilal[\"area\"].astype(str).str.extract(r\"(\\d+(?:\\.\\d+)?)\")  # extract first number\n",
    "\n",
    "# Step 3: Remove any remaining '-' signs\n",
    "df_hilal[\"area\"] = df_hilal[\"area\"].str.replace(\"-\", \"\", regex = False)\n",
    "\n",
    "# Step 4: Convert to float\n",
    "df_hilal[\"area\"] = pd.to_numeric(df_hilal[\"area\"], errors = \"coerce\")\n",
    "\n",
    "# Fill NaN using forward and backward fill\n",
    "df_hilal[\"area\"] = df_hilal[\"area\"].ffill().bfill()\n",
    "df_hilal[[\"area\"]]"
   ]
  },
  {
   "cell_type": "code",
   "execution_count": 46,
   "id": "29482912-f54f-4116-9497-b82fa69e09bd",
   "metadata": {},
   "outputs": [
    {
     "name": "stdout",
     "output_type": "stream",
     "text": [
      "<class 'pandas.core.frame.DataFrame'>\n",
      "RangeIndex: 173 entries, 0 to 172\n",
      "Data columns (total 5 columns):\n",
      " #   Column             Non-Null Count  Dtype  \n",
      "---  ------             --------------  -----  \n",
      " 0   property_title     173 non-null    object \n",
      " 1   property_location  167 non-null    object \n",
      " 2   price              173 non-null    int64  \n",
      " 3   area               173 non-null    float64\n",
      " 4   listing_type       173 non-null    object \n",
      "dtypes: float64(1), int64(1), object(3)\n",
      "memory usage: 6.9+ KB\n"
     ]
    }
   ],
   "source": [
    "df_hilal.info()"
   ]
  },
  {
   "cell_type": "code",
   "execution_count": 47,
   "id": "1c40cc49-dbc2-4152-bf4e-1d334d5c6165",
   "metadata": {},
   "outputs": [
    {
     "data": {
      "text/plain": [
       "property_title       0\n",
       "property_location    6\n",
       "price                0\n",
       "area                 0\n",
       "listing_type         0\n",
       "dtype: int64"
      ]
     },
     "execution_count": 47,
     "metadata": {},
     "output_type": "execute_result"
    }
   ],
   "source": [
    "df_hilal.isnull().sum()"
   ]
  },
  {
   "cell_type": "code",
   "execution_count": 48,
   "id": "bbaf152f-6ead-4731-98d1-389d792ccb03",
   "metadata": {},
   "outputs": [
    {
     "data": {
      "text/plain": [
       "3"
      ]
     },
     "execution_count": 48,
     "metadata": {},
     "output_type": "execute_result"
    }
   ],
   "source": [
    "df_hilal.duplicated().sum()"
   ]
  },
  {
   "cell_type": "code",
   "execution_count": 49,
   "id": "8a5a2653-9ebc-4a1f-9c51-93815f7e255a",
   "metadata": {},
   "outputs": [],
   "source": [
    "df_hilal.drop_duplicates(keep='first', inplace=True)"
   ]
  },
  {
   "cell_type": "code",
   "execution_count": 53,
   "id": "c7853040-00ab-4259-9913-25fd0604922a",
   "metadata": {},
   "outputs": [
    {
     "data": {
      "text/html": [
       "<div>\n",
       "<style scoped>\n",
       "    .dataframe tbody tr th:only-of-type {\n",
       "        vertical-align: middle;\n",
       "    }\n",
       "\n",
       "    .dataframe tbody tr th {\n",
       "        vertical-align: top;\n",
       "    }\n",
       "\n",
       "    .dataframe thead th {\n",
       "        text-align: right;\n",
       "    }\n",
       "</style>\n",
       "<table border=\"1\" class=\"dataframe\">\n",
       "  <thead>\n",
       "    <tr style=\"text-align: right;\">\n",
       "      <th></th>\n",
       "      <th>property_title</th>\n",
       "      <th>property_location</th>\n",
       "      <th>price</th>\n",
       "      <th>area</th>\n",
       "      <th>listing_type</th>\n",
       "    </tr>\n",
       "  </thead>\n",
       "  <tbody>\n",
       "    <tr>\n",
       "      <th>0</th>\n",
       "      <td>120000 m2 3 Bedrooms Apartments for Rent in Dh...</td>\n",
       "      <td>Dhofar, Salala</td>\n",
       "      <td>35.0</td>\n",
       "      <td>120000.0</td>\n",
       "      <td>For Rent</td>\n",
       "    </tr>\n",
       "    <tr>\n",
       "      <th>1</th>\n",
       "      <td>3 Bedrooms Chalet for Rent in Dhofar Salala</td>\n",
       "      <td>Dhofar, Salala</td>\n",
       "      <td>25.0</td>\n",
       "      <td>250.0</td>\n",
       "      <td>For Rent</td>\n",
       "    </tr>\n",
       "    <tr>\n",
       "      <th>2</th>\n",
       "      <td>10 m2 Studio Apartments for Rent in Muscat Amerat</td>\n",
       "      <td>Muscat, Amerat</td>\n",
       "      <td>7.0</td>\n",
       "      <td>10.0</td>\n",
       "      <td>For Rent</td>\n",
       "    </tr>\n",
       "    <tr>\n",
       "      <th>3</th>\n",
       "      <td>Furnished Daily in Muscat Al Mawaleh</td>\n",
       "      <td>Muscat, Al Mawaleh</td>\n",
       "      <td>8.0</td>\n",
       "      <td>10.0</td>\n",
       "      <td>For Rent</td>\n",
       "    </tr>\n",
       "    <tr>\n",
       "      <th>4</th>\n",
       "      <td>للإيجار مكتب  تجاري واجهة على شارع مزون - معرض...</td>\n",
       "      <td>Muscat, Al Khoud</td>\n",
       "      <td>600.0</td>\n",
       "      <td>125.0</td>\n",
       "      <td>For Rent</td>\n",
       "    </tr>\n",
       "    <tr>\n",
       "      <th>...</th>\n",
       "      <td>...</td>\n",
       "      <td>...</td>\n",
       "      <td>...</td>\n",
       "      <td>...</td>\n",
       "      <td>...</td>\n",
       "    </tr>\n",
       "    <tr>\n",
       "      <th>4630</th>\n",
       "      <td>2 BEDROOM APARTMENT IN (SEEB)</td>\n",
       "      <td>Seeb</td>\n",
       "      <td>350.0</td>\n",
       "      <td>170.0</td>\n",
       "      <td>For Rent</td>\n",
       "    </tr>\n",
       "    <tr>\n",
       "      <th>4631</th>\n",
       "      <td>4 BEDROOM RENOVATED DETACHED VILLA</td>\n",
       "      <td>Azaiba</td>\n",
       "      <td>950.0</td>\n",
       "      <td>340.0</td>\n",
       "      <td>For Rent</td>\n",
       "    </tr>\n",
       "    <tr>\n",
       "      <th>4632</th>\n",
       "      <td>6 BEDROOM DETACHED VILLA IN (SHATTI AL QURUM)</td>\n",
       "      <td>Shatti Al Qurum</td>\n",
       "      <td>950.0</td>\n",
       "      <td>350.0</td>\n",
       "      <td>For Rent</td>\n",
       "    </tr>\n",
       "    <tr>\n",
       "      <th>4633</th>\n",
       "      <td>2 BEDROOM APARTMENT IN (BOSHER)</td>\n",
       "      <td>Bausher</td>\n",
       "      <td>475.0</td>\n",
       "      <td>350.0</td>\n",
       "      <td>For Rent</td>\n",
       "    </tr>\n",
       "    <tr>\n",
       "      <th>4634</th>\n",
       "      <td>4 BEDROOM DETACHED VILLA IN (NIZWA)</td>\n",
       "      <td>Nizwa</td>\n",
       "      <td>600.0</td>\n",
       "      <td>400.0</td>\n",
       "      <td>For Rent</td>\n",
       "    </tr>\n",
       "  </tbody>\n",
       "</table>\n",
       "<p>4635 rows × 5 columns</p>\n",
       "</div>"
      ],
      "text/plain": [
       "                                         property_title   property_location  \\\n",
       "0     120000 m2 3 Bedrooms Apartments for Rent in Dh...      Dhofar, Salala   \n",
       "1           3 Bedrooms Chalet for Rent in Dhofar Salala      Dhofar, Salala   \n",
       "2     10 m2 Studio Apartments for Rent in Muscat Amerat      Muscat, Amerat   \n",
       "3                  Furnished Daily in Muscat Al Mawaleh  Muscat, Al Mawaleh   \n",
       "4     للإيجار مكتب  تجاري واجهة على شارع مزون - معرض...    Muscat, Al Khoud   \n",
       "...                                                 ...                 ...   \n",
       "4630                      2 BEDROOM APARTMENT IN (SEEB)                Seeb   \n",
       "4631                 4 BEDROOM RENOVATED DETACHED VILLA              Azaiba   \n",
       "4632      6 BEDROOM DETACHED VILLA IN (SHATTI AL QURUM)     Shatti Al Qurum   \n",
       "4633                    2 BEDROOM APARTMENT IN (BOSHER)             Bausher   \n",
       "4634                4 BEDROOM DETACHED VILLA IN (NIZWA)               Nizwa   \n",
       "\n",
       "      price      area listing_type  \n",
       "0      35.0  120000.0     For Rent  \n",
       "1      25.0     250.0     For Rent  \n",
       "2       7.0      10.0     For Rent  \n",
       "3       8.0      10.0     For Rent  \n",
       "4     600.0     125.0     For Rent  \n",
       "...     ...       ...          ...  \n",
       "4630  350.0     170.0     For Rent  \n",
       "4631  950.0     340.0     For Rent  \n",
       "4632  950.0     350.0     For Rent  \n",
       "4633  475.0     350.0     For Rent  \n",
       "4634  600.0     400.0     For Rent  \n",
       "\n",
       "[4635 rows x 5 columns]"
      ]
     },
     "execution_count": 53,
     "metadata": {},
     "output_type": "execute_result"
    }
   ],
   "source": [
    "real_estate_data = pd.concat([df_opensooq, df_hilal], ignore_index = True)\n",
    "real_estate_data"
   ]
  },
  {
   "cell_type": "code",
   "execution_count": 54,
   "id": "b4fb016a-3373-48f5-a938-8dec3f12a7c9",
   "metadata": {},
   "outputs": [],
   "source": [
    "real_estate_data.to_csv(\"RealEstate_Dataset.csv\", index = False)"
   ]
  },
  {
   "cell_type": "code",
   "execution_count": 55,
   "id": "ee67ff98-bcb0-4566-85b9-3c075e4eb85e",
   "metadata": {},
   "outputs": [
    {
     "data": {
      "text/plain": [
       "(4635, 5)"
      ]
     },
     "execution_count": 55,
     "metadata": {},
     "output_type": "execute_result"
    }
   ],
   "source": [
    "real_estate_data.shape"
   ]
  }
 ],
 "metadata": {
  "kernelspec": {
   "display_name": "Python [conda env:base] *",
   "language": "python",
   "name": "conda-base-py"
  },
  "language_info": {
   "codemirror_mode": {
    "name": "ipython",
    "version": 3
   },
   "file_extension": ".py",
   "mimetype": "text/x-python",
   "name": "python",
   "nbconvert_exporter": "python",
   "pygments_lexer": "ipython3",
   "version": "3.12.7"
  }
 },
 "nbformat": 4,
 "nbformat_minor": 5
}
