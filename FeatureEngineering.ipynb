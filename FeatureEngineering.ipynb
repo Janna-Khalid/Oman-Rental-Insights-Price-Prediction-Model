{
 "cells": [
  {
   "cell_type": "markdown",
   "id": "27082c9e-2251-4f51-a5ef-4077da648f60",
   "metadata": {},
   "source": [
    "# Feature Engineering"
   ]
  },
  {
   "cell_type": "code",
   "execution_count": 22,
   "id": "9d17cf72-66d0-49f9-a1a9-cdc78ba8350e",
   "metadata": {},
   "outputs": [],
   "source": [
    "import numpy as np\n",
    "import pandas as pd"
   ]
  },
  {
   "cell_type": "code",
   "execution_count": 23,
   "id": "4499a32c-9978-4d4c-b121-8df0a963fa2d",
   "metadata": {},
   "outputs": [
    {
     "data": {
      "text/html": [
       "<div>\n",
       "<style scoped>\n",
       "    .dataframe tbody tr th:only-of-type {\n",
       "        vertical-align: middle;\n",
       "    }\n",
       "\n",
       "    .dataframe tbody tr th {\n",
       "        vertical-align: top;\n",
       "    }\n",
       "\n",
       "    .dataframe thead th {\n",
       "        text-align: right;\n",
       "    }\n",
       "</style>\n",
       "<table border=\"1\" class=\"dataframe\">\n",
       "  <thead>\n",
       "    <tr style=\"text-align: right;\">\n",
       "      <th></th>\n",
       "      <th>property_title</th>\n",
       "      <th>property_location</th>\n",
       "      <th>price</th>\n",
       "      <th>area</th>\n",
       "      <th>listing_type</th>\n",
       "    </tr>\n",
       "  </thead>\n",
       "  <tbody>\n",
       "    <tr>\n",
       "      <th>0</th>\n",
       "      <td>120000 m2 3 Bedrooms Apartments for Rent in Dh...</td>\n",
       "      <td>Dhofar, Salala</td>\n",
       "      <td>35.0</td>\n",
       "      <td>120000.0</td>\n",
       "      <td>For Rent</td>\n",
       "    </tr>\n",
       "    <tr>\n",
       "      <th>1</th>\n",
       "      <td>3 Bedrooms Chalet for Rent in Dhofar Salala</td>\n",
       "      <td>Dhofar, Salala</td>\n",
       "      <td>25.0</td>\n",
       "      <td>250.0</td>\n",
       "      <td>For Rent</td>\n",
       "    </tr>\n",
       "    <tr>\n",
       "      <th>2</th>\n",
       "      <td>10 m2 Studio Apartments for Rent in Muscat Amerat</td>\n",
       "      <td>Muscat, Amerat</td>\n",
       "      <td>7.0</td>\n",
       "      <td>10.0</td>\n",
       "      <td>For Rent</td>\n",
       "    </tr>\n",
       "    <tr>\n",
       "      <th>3</th>\n",
       "      <td>Furnished Daily in Muscat Al Mawaleh</td>\n",
       "      <td>Muscat, Al Mawaleh</td>\n",
       "      <td>8.0</td>\n",
       "      <td>10.0</td>\n",
       "      <td>For Rent</td>\n",
       "    </tr>\n",
       "    <tr>\n",
       "      <th>4</th>\n",
       "      <td>للإيجار مكتب  تجاري واجهة على شارع مزون - معرض...</td>\n",
       "      <td>Muscat, Al Khoud</td>\n",
       "      <td>600.0</td>\n",
       "      <td>125.0</td>\n",
       "      <td>For Rent</td>\n",
       "    </tr>\n",
       "  </tbody>\n",
       "</table>\n",
       "</div>"
      ],
      "text/plain": [
       "                                      property_title   property_location  \\\n",
       "0  120000 m2 3 Bedrooms Apartments for Rent in Dh...      Dhofar, Salala   \n",
       "1        3 Bedrooms Chalet for Rent in Dhofar Salala      Dhofar, Salala   \n",
       "2  10 m2 Studio Apartments for Rent in Muscat Amerat      Muscat, Amerat   \n",
       "3               Furnished Daily in Muscat Al Mawaleh  Muscat, Al Mawaleh   \n",
       "4  للإيجار مكتب  تجاري واجهة على شارع مزون - معرض...    Muscat, Al Khoud   \n",
       "\n",
       "   price      area listing_type  \n",
       "0   35.0  120000.0     For Rent  \n",
       "1   25.0     250.0     For Rent  \n",
       "2    7.0      10.0     For Rent  \n",
       "3    8.0      10.0     For Rent  \n",
       "4  600.0     125.0     For Rent  "
      ]
     },
     "execution_count": 23,
     "metadata": {},
     "output_type": "execute_result"
    }
   ],
   "source": [
    "df = pd.read_csv(r\"RealEstate_Dataset.csv\")\n",
    "df.head()"
   ]
  },
  {
   "cell_type": "code",
   "execution_count": 24,
   "id": "9a3de293-369a-4b57-8a55-41b4ab65e3ee",
   "metadata": {},
   "outputs": [
    {
     "data": {
      "text/plain": [
       "(4635, 5)"
      ]
     },
     "execution_count": 24,
     "metadata": {},
     "output_type": "execute_result"
    }
   ],
   "source": [
    "df.shape"
   ]
  },
  {
   "cell_type": "code",
   "execution_count": 25,
   "id": "19e48310-f225-4d9e-baff-6bce89d312a5",
   "metadata": {},
   "outputs": [
    {
     "name": "stdout",
     "output_type": "stream",
     "text": [
      "<class 'pandas.core.frame.DataFrame'>\n",
      "RangeIndex: 4635 entries, 0 to 4634\n",
      "Data columns (total 5 columns):\n",
      " #   Column             Non-Null Count  Dtype  \n",
      "---  ------             --------------  -----  \n",
      " 0   property_title     4635 non-null   object \n",
      " 1   property_location  4629 non-null   object \n",
      " 2   price              4635 non-null   float64\n",
      " 3   area               4635 non-null   float64\n",
      " 4   listing_type       4635 non-null   object \n",
      "dtypes: float64(2), object(3)\n",
      "memory usage: 181.2+ KB\n"
     ]
    }
   ],
   "source": [
    "df.info()"
   ]
  },
  {
   "cell_type": "code",
   "execution_count": 26,
   "id": "08370b0f-987f-4452-82ae-3de63326fe72",
   "metadata": {},
   "outputs": [
    {
     "data": {
      "text/plain": [
       "property_title       0\n",
       "property_location    6\n",
       "price                0\n",
       "area                 0\n",
       "listing_type         0\n",
       "dtype: int64"
      ]
     },
     "execution_count": 26,
     "metadata": {},
     "output_type": "execute_result"
    }
   ],
   "source": [
    "df.isnull().sum()"
   ]
  },
  {
   "cell_type": "code",
   "execution_count": 27,
   "id": "cafa3490-80d2-4456-aaf4-80883c9b396e",
   "metadata": {},
   "outputs": [
    {
     "data": {
      "text/html": [
       "<div>\n",
       "<style scoped>\n",
       "    .dataframe tbody tr th:only-of-type {\n",
       "        vertical-align: middle;\n",
       "    }\n",
       "\n",
       "    .dataframe tbody tr th {\n",
       "        vertical-align: top;\n",
       "    }\n",
       "\n",
       "    .dataframe thead th {\n",
       "        text-align: right;\n",
       "    }\n",
       "</style>\n",
       "<table border=\"1\" class=\"dataframe\">\n",
       "  <thead>\n",
       "    <tr style=\"text-align: right;\">\n",
       "      <th></th>\n",
       "      <th>price_per_sqm</th>\n",
       "    </tr>\n",
       "  </thead>\n",
       "  <tbody>\n",
       "    <tr>\n",
       "      <th>0</th>\n",
       "      <td>0.000292</td>\n",
       "    </tr>\n",
       "    <tr>\n",
       "      <th>1</th>\n",
       "      <td>0.100000</td>\n",
       "    </tr>\n",
       "    <tr>\n",
       "      <th>2</th>\n",
       "      <td>0.700000</td>\n",
       "    </tr>\n",
       "    <tr>\n",
       "      <th>3</th>\n",
       "      <td>0.800000</td>\n",
       "    </tr>\n",
       "    <tr>\n",
       "      <th>4</th>\n",
       "      <td>4.800000</td>\n",
       "    </tr>\n",
       "    <tr>\n",
       "      <th>...</th>\n",
       "      <td>...</td>\n",
       "    </tr>\n",
       "    <tr>\n",
       "      <th>4630</th>\n",
       "      <td>2.058824</td>\n",
       "    </tr>\n",
       "    <tr>\n",
       "      <th>4631</th>\n",
       "      <td>2.794118</td>\n",
       "    </tr>\n",
       "    <tr>\n",
       "      <th>4632</th>\n",
       "      <td>2.714286</td>\n",
       "    </tr>\n",
       "    <tr>\n",
       "      <th>4633</th>\n",
       "      <td>1.357143</td>\n",
       "    </tr>\n",
       "    <tr>\n",
       "      <th>4634</th>\n",
       "      <td>1.500000</td>\n",
       "    </tr>\n",
       "  </tbody>\n",
       "</table>\n",
       "<p>4635 rows × 1 columns</p>\n",
       "</div>"
      ],
      "text/plain": [
       "      price_per_sqm\n",
       "0          0.000292\n",
       "1          0.100000\n",
       "2          0.700000\n",
       "3          0.800000\n",
       "4          4.800000\n",
       "...             ...\n",
       "4630       2.058824\n",
       "4631       2.794118\n",
       "4632       2.714286\n",
       "4633       1.357143\n",
       "4634       1.500000\n",
       "\n",
       "[4635 rows x 1 columns]"
      ]
     },
     "execution_count": 27,
     "metadata": {},
     "output_type": "execute_result"
    }
   ],
   "source": [
    "df[\"price_per_sqm\"] = df[\"price\"] / df[\"area\"]\n",
    "df[[\"price_per_sqm\"]]"
   ]
  },
  {
   "cell_type": "code",
   "execution_count": 28,
   "id": "56bf64c0-5a02-4deb-88dd-a497a74ba2dd",
   "metadata": {},
   "outputs": [],
   "source": [
    "df.dropna(subset=['property_location'], inplace=True)"
   ]
  },
  {
   "cell_type": "code",
   "execution_count": 29,
   "id": "3f8f18b8-8ccb-4a16-af99-1c5dfc7f3e2e",
   "metadata": {},
   "outputs": [
    {
     "data": {
      "text/plain": [
       "property_title       0\n",
       "property_location    0\n",
       "price                0\n",
       "area                 0\n",
       "listing_type         0\n",
       "price_per_sqm        0\n",
       "dtype: int64"
      ]
     },
     "execution_count": 29,
     "metadata": {},
     "output_type": "execute_result"
    }
   ],
   "source": [
    "df.isnull().sum()"
   ]
  },
  {
   "cell_type": "code",
   "execution_count": 30,
   "id": "1d97beee-ff4e-481e-9a9e-ff45dedc5631",
   "metadata": {},
   "outputs": [
    {
     "data": {
      "text/plain": [
       "<bound method Series.unique of 0       0.000292\n",
       "1       0.100000\n",
       "2       0.700000\n",
       "3       0.800000\n",
       "4       4.800000\n",
       "          ...   \n",
       "4630    2.058824\n",
       "4631    2.794118\n",
       "4632    2.714286\n",
       "4633    1.357143\n",
       "4634    1.500000\n",
       "Name: price_per_sqm, Length: 4629, dtype: float64>"
      ]
     },
     "execution_count": 30,
     "metadata": {},
     "output_type": "execute_result"
    }
   ],
   "source": [
    "df[\"price_per_sqm\"].unique"
   ]
  },
  {
   "cell_type": "code",
   "execution_count": 31,
   "id": "b2595a7f-2bdd-49c6-90b3-3af58993c1f8",
   "metadata": {},
   "outputs": [
    {
     "data": {
      "text/html": [
       "<div>\n",
       "<style scoped>\n",
       "    .dataframe tbody tr th:only-of-type {\n",
       "        vertical-align: middle;\n",
       "    }\n",
       "\n",
       "    .dataframe tbody tr th {\n",
       "        vertical-align: top;\n",
       "    }\n",
       "\n",
       "    .dataframe thead th {\n",
       "        text-align: right;\n",
       "    }\n",
       "</style>\n",
       "<table border=\"1\" class=\"dataframe\">\n",
       "  <thead>\n",
       "    <tr style=\"text-align: right;\">\n",
       "      <th></th>\n",
       "      <th>price_category</th>\n",
       "    </tr>\n",
       "  </thead>\n",
       "  <tbody>\n",
       "    <tr>\n",
       "      <th>0</th>\n",
       "      <td>Low</td>\n",
       "    </tr>\n",
       "    <tr>\n",
       "      <th>1</th>\n",
       "      <td>Low</td>\n",
       "    </tr>\n",
       "    <tr>\n",
       "      <th>2</th>\n",
       "      <td>Low</td>\n",
       "    </tr>\n",
       "    <tr>\n",
       "      <th>3</th>\n",
       "      <td>Low</td>\n",
       "    </tr>\n",
       "    <tr>\n",
       "      <th>4</th>\n",
       "      <td>High</td>\n",
       "    </tr>\n",
       "    <tr>\n",
       "      <th>...</th>\n",
       "      <td>...</td>\n",
       "    </tr>\n",
       "    <tr>\n",
       "      <th>4630</th>\n",
       "      <td>Medium</td>\n",
       "    </tr>\n",
       "    <tr>\n",
       "      <th>4631</th>\n",
       "      <td>Medium</td>\n",
       "    </tr>\n",
       "    <tr>\n",
       "      <th>4632</th>\n",
       "      <td>Medium</td>\n",
       "    </tr>\n",
       "    <tr>\n",
       "      <th>4633</th>\n",
       "      <td>Medium</td>\n",
       "    </tr>\n",
       "    <tr>\n",
       "      <th>4634</th>\n",
       "      <td>Medium</td>\n",
       "    </tr>\n",
       "  </tbody>\n",
       "</table>\n",
       "<p>4629 rows × 1 columns</p>\n",
       "</div>"
      ],
      "text/plain": [
       "     price_category\n",
       "0               Low\n",
       "1               Low\n",
       "2               Low\n",
       "3               Low\n",
       "4              High\n",
       "...             ...\n",
       "4630         Medium\n",
       "4631         Medium\n",
       "4632         Medium\n",
       "4633         Medium\n",
       "4634         Medium\n",
       "\n",
       "[4629 rows x 1 columns]"
      ]
     },
     "execution_count": 31,
     "metadata": {},
     "output_type": "execute_result"
    }
   ],
   "source": [
    "def categorize_price(p):\n",
    "    if p < 1:\n",
    "        return \"Low\"\n",
    "    elif p < 3:\n",
    "        return \"Medium\"\n",
    "    else:\n",
    "        return \"High\"\n",
    "\n",
    "df[\"price_category\"] = df[\"price_per_sqm\"].apply(categorize_price)\n",
    "df[[\"price_category\"]]"
   ]
  },
  {
   "cell_type": "code",
   "execution_count": 32,
   "id": "176b031d-139a-4f2a-89f2-1cdf5e6b3345",
   "metadata": {},
   "outputs": [
    {
     "name": "stdout",
     "output_type": "stream",
     "text": [
      "<class 'pandas.core.frame.DataFrame'>\n",
      "Index: 4629 entries, 0 to 4634\n",
      "Data columns (total 7 columns):\n",
      " #   Column             Non-Null Count  Dtype  \n",
      "---  ------             --------------  -----  \n",
      " 0   property_title     4629 non-null   object \n",
      " 1   property_location  4629 non-null   object \n",
      " 2   price              4629 non-null   float64\n",
      " 3   area               4629 non-null   float64\n",
      " 4   listing_type       4629 non-null   object \n",
      " 5   price_per_sqm      4629 non-null   float64\n",
      " 6   price_category     4629 non-null   object \n",
      "dtypes: float64(3), object(4)\n",
      "memory usage: 289.3+ KB\n"
     ]
    }
   ],
   "source": [
    "df.info()"
   ]
  },
  {
   "cell_type": "code",
   "execution_count": 33,
   "id": "53cdb45c-95bb-4f14-83a6-01c7b6b69170",
   "metadata": {},
   "outputs": [],
   "source": [
    "def has_outliers(series):\n",
    "    Q1 = series.quantile(0.25)\n",
    "    Q3 = series.quantile(0.75)\n",
    "    IQR = Q3 - Q1\n",
    "    lower = Q1 - 1.5 * IQR\n",
    "    upper = Q3 + 1.5 * IQR\n",
    "    return ((series < lower) | (series > upper)).any()\n",
    "\n",
    "outlier_columns = [col for col in df.select_dtypes(include='number').columns if has_outliers(df[col])]"
   ]
  },
  {
   "cell_type": "code",
   "execution_count": 34,
   "id": "0ba9aa4e-3bc9-4084-80a6-af1ee71da15a",
   "metadata": {},
   "outputs": [
    {
     "data": {
      "text/plain": [
       "['price', 'area', 'price_per_sqm']"
      ]
     },
     "execution_count": 34,
     "metadata": {},
     "output_type": "execute_result"
    }
   ],
   "source": [
    "outlier_columns"
   ]
  },
  {
   "cell_type": "code",
   "execution_count": 36,
   "id": "c41e0cff-d916-4d0a-b514-47ac5585d975",
   "metadata": {},
   "outputs": [
    {
     "data": {
      "image/png": "[encoded data removed]",
      "text/plain": [
       "<Figure size 1200x600 with 1 Axes>"
      ]
     },
     "metadata": {},
     "output_type": "display_data"
    }
   ],
   "source": [
    "import matplotlib.pyplot as plt\n",
    "import seaborn as sns\n",
    "\n",
    "# Select the relevant columns\n",
    "cols = [\"price\", \"area\", \"price_per_sqm\"]\n",
    "df_box = df[cols]\n",
    "\n",
    "# Set up the figure\n",
    "plt.figure(figsize=(12, 6))\n",
    "sns.boxplot(data=df_box)\n",
    "plt.title('Boxplot of Selected Columns')\n",
    "plt.xticks(rotation=45)\n",
    "plt.tight_layout()\n",
    "plt.show()"
   ]
  },
  {
   "cell_type": "code",
   "execution_count": 37,
   "id": "5be527be-0700-4c44-b139-71828906590a",
   "metadata": {},
   "outputs": [],
   "source": [
    "# Columns to check for outliers\n",
    "cols = [\"price\", \"area\", \"price_per_sqm\"]\n",
    "\n",
    "def remove_outliers_iqr(df, columns):\n",
    "    df_clean = df.copy()\n",
    "    for col in columns:\n",
    "        Q1 = df_clean[col].quantile(0.25)\n",
    "        Q3 = df_clean[col].quantile(0.75)\n",
    "        IQR = Q3 - Q1\n",
    "        lower_bound = Q1 - 1.5 * IQR\n",
    "        upper_bound = Q3 + 1.5 * IQR\n",
    "        \n",
    "        # Keep only rows within bounds\n",
    "        df_clean = df_clean[(df_clean[col] >= lower_bound) & (df_clean[col] <= upper_bound)]\n",
    "    \n",
    "    return df_clean\n",
    "\n",
    "df_cleaned = remove_outliers_iqr(df, cols)"
   ]
  },
  {
   "cell_type": "code",
   "execution_count": 38,
   "id": "03db2025-7364-48e1-919f-f9aadcb01a02",
   "metadata": {},
   "outputs": [
    {
     "data": {
      "image/png": "[encoded data removed]",
      "text/plain": [
       "<Figure size 600x400 with 1 Axes>"
      ]
     },
     "metadata": {},
     "output_type": "display_data"
    },
    {
     "data": {
      "image/png": "[encoded data removed]",
      "text/plain": [
       "<Figure size 600x400 with 1 Axes>"
      ]
     },
     "metadata": {},
     "output_type": "display_data"
    },
    {
     "data": {
      "image/png": "[encoded data removed]",
      "text/plain": [
       "<Figure size 600x400 with 1 Axes>"
      ]
     },
     "metadata": {},
     "output_type": "display_data"
    }
   ],
   "source": [
    "for col in cols:\n",
    "    plt.figure(figsize=(6, 4))\n",
    "    sns.boxplot(x=df_cleaned[col])\n",
    "    plt.title(f'Boxplot of {col} (Outliers Removed)')\n",
    "    plt.tight_layout()\n",
    "    plt.show()"
   ]
  },
  {
   "cell_type": "code",
   "execution_count": 39,
   "id": "44203d43-1729-4510-937b-db77b504854d",
   "metadata": {},
   "outputs": [],
   "source": [
    "categorical_columns = df.select_dtypes(include = 'object').columns"
   ]
  },
  {
   "cell_type": "code",
   "execution_count": 40,
   "id": "120003ce-0d69-4aff-a285-202b2ce0c08b",
   "metadata": {},
   "outputs": [
    {
     "data": {
      "text/plain": [
       "Index(['property_title', 'property_location', 'listing_type',\n",
       "       'price_category'],\n",
       "      dtype='object')"
      ]
     },
     "execution_count": 40,
     "metadata": {},
     "output_type": "execute_result"
    }
   ],
   "source": [
    "categorical_columns"
   ]
  },
  {
   "cell_type": "code",
   "execution_count": 41,
   "id": "2aae52c4-8568-44e8-a66b-224210ab3d43",
   "metadata": {},
   "outputs": [],
   "source": [
    "from sklearn.preprocessing import LabelEncoder\n",
    "\n",
    "cols_to_encode = ['property_title', 'property_location', 'listing_type', 'price_category']\n",
    "le = LabelEncoder()\n",
    "\n",
    "for col in cols_to_encode:\n",
    "    df[col] = le.fit_transform(df[col].astype(str))  # convert to string to avoid errors with NaNs or mixed types"
   ]
  },
  {
   "cell_type": "code",
   "execution_count": 42,
   "id": "c7539886-3e2e-4139-aaa5-4a7a8814d334",
   "metadata": {},
   "outputs": [
    {
     "data": {
      "text/html": [
       "<div>\n",
       "<style scoped>\n",
       "    .dataframe tbody tr th:only-of-type {\n",
       "        vertical-align: middle;\n",
       "    }\n",
       "\n",
       "    .dataframe tbody tr th {\n",
       "        vertical-align: top;\n",
       "    }\n",
       "\n",
       "    .dataframe thead th {\n",
       "        text-align: right;\n",
       "    }\n",
       "</style>\n",
       "<table border=\"1\" class=\"dataframe\">\n",
       "  <thead>\n",
       "    <tr style=\"text-align: right;\">\n",
       "      <th></th>\n",
       "      <th>property_title</th>\n",
       "      <th>property_location</th>\n",
       "      <th>price</th>\n",
       "      <th>area</th>\n",
       "      <th>listing_type</th>\n",
       "      <th>price_per_sqm</th>\n",
       "      <th>price_category</th>\n",
       "    </tr>\n",
       "  </thead>\n",
       "  <tbody>\n",
       "    <tr>\n",
       "      <th>0</th>\n",
       "      <td>325</td>\n",
       "      <td>54</td>\n",
       "      <td>35.0</td>\n",
       "      <td>120000.0</td>\n",
       "      <td>0</td>\n",
       "      <td>0.000292</td>\n",
       "      <td>1</td>\n",
       "    </tr>\n",
       "    <tr>\n",
       "      <th>1</th>\n",
       "      <td>924</td>\n",
       "      <td>54</td>\n",
       "      <td>25.0</td>\n",
       "      <td>250.0</td>\n",
       "      <td>0</td>\n",
       "      <td>0.100000</td>\n",
       "      <td>1</td>\n",
       "    </tr>\n",
       "    <tr>\n",
       "      <th>2</th>\n",
       "      <td>88</td>\n",
       "      <td>75</td>\n",
       "      <td>7.0</td>\n",
       "      <td>10.0</td>\n",
       "      <td>0</td>\n",
       "      <td>0.700000</td>\n",
       "      <td>1</td>\n",
       "    </tr>\n",
       "    <tr>\n",
       "      <th>3</th>\n",
       "      <td>2070</td>\n",
       "      <td>69</td>\n",
       "      <td>8.0</td>\n",
       "      <td>10.0</td>\n",
       "      <td>0</td>\n",
       "      <td>0.800000</td>\n",
       "      <td>1</td>\n",
       "    </tr>\n",
       "    <tr>\n",
       "      <th>4</th>\n",
       "      <td>2715</td>\n",
       "      <td>66</td>\n",
       "      <td>600.0</td>\n",
       "      <td>125.0</td>\n",
       "      <td>0</td>\n",
       "      <td>4.800000</td>\n",
       "      <td>0</td>\n",
       "    </tr>\n",
       "  </tbody>\n",
       "</table>\n",
       "</div>"
      ],
      "text/plain": [
       "   property_title  property_location  price      area  listing_type  \\\n",
       "0             325                 54   35.0  120000.0             0   \n",
       "1             924                 54   25.0     250.0             0   \n",
       "2              88                 75    7.0      10.0             0   \n",
       "3            2070                 69    8.0      10.0             0   \n",
       "4            2715                 66  600.0     125.0             0   \n",
       "\n",
       "   price_per_sqm  price_category  \n",
       "0       0.000292               1  \n",
       "1       0.100000               1  \n",
       "2       0.700000               1  \n",
       "3       0.800000               1  \n",
       "4       4.800000               0  "
      ]
     },
     "execution_count": 42,
     "metadata": {},
     "output_type": "execute_result"
    }
   ],
   "source": [
    "df.head()"
   ]
  },
  {
   "cell_type": "code",
   "execution_count": 43,
   "id": "1a8f5f4a-71bf-4098-8d49-276c83f11f95",
   "metadata": {},
   "outputs": [
    {
     "name": "stdout",
     "output_type": "stream",
     "text": [
      "<class 'pandas.core.frame.DataFrame'>\n",
      "Index: 4629 entries, 0 to 4634\n",
      "Data columns (total 7 columns):\n",
      " #   Column             Non-Null Count  Dtype  \n",
      "---  ------             --------------  -----  \n",
      " 0   property_title     4629 non-null   int32  \n",
      " 1   property_location  4629 non-null   int32  \n",
      " 2   price              4629 non-null   float64\n",
      " 3   area               4629 non-null   float64\n",
      " 4   listing_type       4629 non-null   int32  \n",
      " 5   price_per_sqm      4629 non-null   float64\n",
      " 6   price_category     4629 non-null   int32  \n",
      "dtypes: float64(3), int32(4)\n",
      "memory usage: 217.0 KB\n"
     ]
    }
   ],
   "source": [
    "df.info()"
   ]
  },
  {
   "cell_type": "code",
   "execution_count": 44,
   "id": "90a3c8bc-9099-4296-8ad1-d2d2dcd0e12d",
   "metadata": {},
   "outputs": [
    {
     "data": {
      "image/png": "[encoded data removed]",
      "text/plain": [
       "<Figure size 640x480 with 1 Axes>"
      ]
     },
     "metadata": {},
     "output_type": "display_data"
    }
   ],
   "source": [
    "df[\"area\"].plot (kind=\"hist\")\n",
    "plt.show()"
   ]
  },
  {
   "cell_type": "code",
   "execution_count": 46,
   "id": "c09070b5-dbd2-4bfb-bac3-d2b317ef057b",
   "metadata": {},
   "outputs": [],
   "source": [
    "from scipy.stats import boxcox\n",
    "df[\"area_boxcox\"], fitted_lambda = boxcox(df[\"area\"])"
   ]
  },
  {
   "cell_type": "code",
   "execution_count": 47,
   "id": "cde5a9b8-acee-4dd6-9960-f53d2012fc8e",
   "metadata": {},
   "outputs": [
    {
     "data": {
      "image/png": "[encoded data removed]",
      "text/plain": [
       "<Figure size 640x480 with 1 Axes>"
      ]
     },
     "metadata": {},
     "output_type": "display_data"
    }
   ],
   "source": [
    "df[\"area_boxcox\"].plot (kind=\"hist\")\n",
    "plt.show()"
   ]
  },
  {
   "cell_type": "code",
   "execution_count": 48,
   "id": "11eb840e-71d2-4731-8b8a-6ac55feadfa8",
   "metadata": {},
   "outputs": [],
   "source": [
    "from sklearn.preprocessing import StandardScaler\n",
    "scaling_columns = [\"price\", \"area\", \"price_per_sqm\"]\n",
    "scaler = StandardScaler()\n",
    "df[scaling_columns] = scaler.fit_transform(df[scaling_columns])"
   ]
  },
  {
   "cell_type": "code",
   "execution_count": 50,
   "id": "3c1c26ee-e1e3-47bc-a451-52b81de848e4",
   "metadata": {},
   "outputs": [
    {
     "data": {
      "image/png": "[encoded data removed]",
      "text/plain": [
       "<Figure size 1000x600 with 3 Axes>"
      ]
     },
     "metadata": {},
     "output_type": "display_data"
    }
   ],
   "source": [
    "plt.figure(figsize = (10, 6))\n",
    "# Plotting histograms for each scaled feature\n",
    "for idx, column in enumerate(scaling_columns, 1):\n",
    "    plt.subplot(2, 2, idx)\n",
    "    plt.hist(df[column], bins=10, alpha=0.7, color = \"skyblue\", edgecolor = \"black\")\n",
    "    plt.title(f\"Scaled {column}\")\n",
    "    plt.xlabel(\"Scaled Value\")\n",
    "    plt.ylabel(\"Frequency\")\n",
    "plt.tight_layout()\n",
    "plt.show()"
   ]
  },
  {
   "cell_type": "code",
   "execution_count": 51,
   "id": "82d2a9f7-f831-45fb-bb4a-ea55a2f58d50",
   "metadata": {},
   "outputs": [],
   "source": [
    "df.to_csv(\"FeatureEngineering.csv\", index = False)"
   ]
  }
 ],
 "metadata": {
  "kernelspec": {
   "display_name": "Python [conda env:base] *",
   "language": "python",
   "name": "conda-base-py"
  },
  "language_info": {
   "codemirror_mode": {
    "name": "ipython",
    "version": 3
   },
   "file_extension": ".py",
   "mimetype": "text/x-python",
   "name": "python",
   "nbconvert_exporter": "python",
   "pygments_lexer": "ipython3",
   "version": "3.12.7"
  }
 },
 "nbformat": 4,
 "nbformat_minor": 5
}
