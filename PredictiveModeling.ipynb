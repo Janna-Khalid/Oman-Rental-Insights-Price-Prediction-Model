{
 "cells": [
  {
   "cell_type": "markdown",
   "id": "ba4b497c-53f7-43ff-bea0-f6eb30731775",
   "metadata": {},
   "source": [
    "# Predictive Modeling"
   ]
  },
  {
   "cell_type": "code",
   "execution_count": 2,
   "id": "e43b77fa-d87a-4d0e-a705-dd4c2fdb5ae5",
   "metadata": {},
   "outputs": [
    {
     "data": {
      "text/html": [
       "<div>\n",
       "<style scoped>\n",
       "    .dataframe tbody tr th:only-of-type {\n",
       "        vertical-align: middle;\n",
       "    }\n",
       "\n",
       "    .dataframe tbody tr th {\n",
       "        vertical-align: top;\n",
       "    }\n",
       "\n",
       "    .dataframe thead th {\n",
       "        text-align: right;\n",
       "    }\n",
       "</style>\n",
       "<table border=\"1\" class=\"dataframe\">\n",
       "  <thead>\n",
       "    <tr style=\"text-align: right;\">\n",
       "      <th></th>\n",
       "      <th>property_title</th>\n",
       "      <th>property_location</th>\n",
       "      <th>price</th>\n",
       "      <th>area</th>\n",
       "      <th>listing_type</th>\n",
       "      <th>price_per_sqm</th>\n",
       "      <th>price_category</th>\n",
       "      <th>area_boxcox</th>\n",
       "    </tr>\n",
       "  </thead>\n",
       "  <tbody>\n",
       "    <tr>\n",
       "      <th>0</th>\n",
       "      <td>325</td>\n",
       "      <td>54</td>\n",
       "      <td>-0.014715</td>\n",
       "      <td>-0.028311</td>\n",
       "      <td>0</td>\n",
       "      <td>-0.014736</td>\n",
       "      <td>1</td>\n",
       "      <td>9.425631</td>\n",
       "    </tr>\n",
       "    <tr>\n",
       "      <th>1</th>\n",
       "      <td>924</td>\n",
       "      <td>54</td>\n",
       "      <td>-0.014716</td>\n",
       "      <td>-0.030208</td>\n",
       "      <td>0</td>\n",
       "      <td>-0.014736</td>\n",
       "      <td>1</td>\n",
       "      <td>4.976388</td>\n",
       "    </tr>\n",
       "    <tr>\n",
       "      <th>2</th>\n",
       "      <td>88</td>\n",
       "      <td>75</td>\n",
       "      <td>-0.014716</td>\n",
       "      <td>-0.030212</td>\n",
       "      <td>0</td>\n",
       "      <td>-0.014736</td>\n",
       "      <td>1</td>\n",
       "      <td>2.203913</td>\n",
       "    </tr>\n",
       "    <tr>\n",
       "      <th>3</th>\n",
       "      <td>2070</td>\n",
       "      <td>69</td>\n",
       "      <td>-0.014716</td>\n",
       "      <td>-0.030212</td>\n",
       "      <td>0</td>\n",
       "      <td>-0.014736</td>\n",
       "      <td>1</td>\n",
       "      <td>2.203913</td>\n",
       "    </tr>\n",
       "    <tr>\n",
       "      <th>4</th>\n",
       "      <td>2715</td>\n",
       "      <td>66</td>\n",
       "      <td>-0.014712</td>\n",
       "      <td>-0.030210</td>\n",
       "      <td>0</td>\n",
       "      <td>-0.014735</td>\n",
       "      <td>0</td>\n",
       "      <td>4.407918</td>\n",
       "    </tr>\n",
       "  </tbody>\n",
       "</table>\n",
       "</div>"
      ],
      "text/plain": [
       "   property_title  property_location     price      area  listing_type  \\\n",
       "0             325                 54 -0.014715 -0.028311             0   \n",
       "1             924                 54 -0.014716 -0.030208             0   \n",
       "2              88                 75 -0.014716 -0.030212             0   \n",
       "3            2070                 69 -0.014716 -0.030212             0   \n",
       "4            2715                 66 -0.014712 -0.030210             0   \n",
       "\n",
       "   price_per_sqm  price_category  area_boxcox  \n",
       "0      -0.014736               1     9.425631  \n",
       "1      -0.014736               1     4.976388  \n",
       "2      -0.014736               1     2.203913  \n",
       "3      -0.014736               1     2.203913  \n",
       "4      -0.014735               0     4.407918  "
      ]
     },
     "execution_count": 2,
     "metadata": {},
     "output_type": "execute_result"
    }
   ],
   "source": [
    "import pandas as pd\n",
    "df = pd.read_csv(r\"FeatureEngineering.csv\")\n",
    "df.head()"
   ]
  },
  {
   "cell_type": "code",
   "execution_count": 3,
   "id": "516761dc-8448-45f3-8edc-43a28470238a",
   "metadata": {},
   "outputs": [],
   "source": [
    "from sklearn.model_selection import train_test_split\n",
    "from sklearn.linear_model import LinearRegression\n",
    "from sklearn.tree import DecisionTreeRegressor\n",
    "from sklearn.ensemble import RandomForestRegressor\n",
    "from sklearn.metrics import mean_squared_error, r2_score"
   ]
  },
  {
   "cell_type": "code",
   "execution_count": 4,
   "id": "75de01d4-de43-4358-8bab-0070fd7d483b",
   "metadata": {},
   "outputs": [
    {
     "name": "stdout",
     "output_type": "stream",
     "text": [
      "Linear Regression: MSE = 0.00, R2 = -345.86\n",
      "Decision Tree: MSE = 0.00, R2 = -14.38\n",
      "Random Forest: MSE = 0.00, R2 = -5.11\n"
     ]
    }
   ],
   "source": [
    "# Features and target\n",
    "X = df.drop(columns=[\"price\"])\n",
    "y = df[\"price\"]\n",
    "\n",
    "# Split dataset (80% train, 20% test)\n",
    "X_train, X_test, y_train, y_test = train_test_split(X, y, test_size=0.2, random_state=42)\n",
    "\n",
    "# Initialize models\n",
    "models = {\n",
    "    \"Linear Regression\": LinearRegression(),\n",
    "    \"Decision Tree\": DecisionTreeRegressor(random_state=42),\n",
    "    \"Random Forest\": RandomForestRegressor(random_state=42, n_estimators=100)\n",
    "}\n",
    "\n",
    "# Train, predict, and evaluate each model\n",
    "for name, model in models.items():\n",
    "    model.fit(X_train, y_train)\n",
    "    preds = model.predict(X_test)\n",
    "    mse = mean_squared_error(y_test, preds)\n",
    "    r2 = r2_score(y_test, preds)\n",
    "    print(f\"{name}: MSE = {mse:.2f}, R2 = {r2:.2f}\")"
   ]
  }
 ],
 "metadata": {
  "kernelspec": {
   "display_name": "Python [conda env:base] *",
   "language": "python",
   "name": "conda-base-py"
  },
  "language_info": {
   "codemirror_mode": {
    "name": "ipython",
    "version": 3
   },
   "file_extension": ".py",
   "mimetype": "text/x-python",
   "name": "python",
   "nbconvert_exporter": "python",
   "pygments_lexer": "ipython3",
   "version": "3.12.7"
  }
 },
 "nbformat": 4,
 "nbformat_minor": 5
}
